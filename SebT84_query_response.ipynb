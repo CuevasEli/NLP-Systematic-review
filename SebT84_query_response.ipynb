{
 "cells": [
  {
   "cell_type": "markdown",
   "id": "2b341fcd-fe35-4eaf-9676-75f1ef1813f1",
   "metadata": {},
   "source": [
    "# Notebook Setup"
   ]
  },
  {
   "cell_type": "code",
   "execution_count": 1,
   "id": "5dc8dd16-ea70-41ec-bb09-ff952b5a979e",
   "metadata": {},
   "outputs": [],
   "source": [
    "import pandas as pd\n",
    "import numpy as np\n",
    "\n",
    "#import matplotlib.pyplot as plt\n",
    "#import seaborn as sns\n",
    "#from rake_nltk import Rake\n",
    "\n",
    "#from tensorflow.keras.preprocessing.text import Tokenizer\n",
    "#from tensorflow.keras.preprocessing.sequence import pad_sequences\n",
    "#from tensorflow.keras.preprocessing.text import text_to_word_sequence"
   ]
  },
  {
   "cell_type": "code",
   "execution_count": 5,
   "id": "a87d533f-dae4-4743-ac4d-b350cb5294e5",
   "metadata": {},
   "outputs": [],
   "source": [
    "from bertopic import BERTopic\n",
    "from bertopic.representation import KeyBERTInspired"
   ]
  },
  {
   "cell_type": "code",
   "execution_count": 4,
   "id": "2d4ead24-8b1f-4bdf-bb64-9e051c066a06",
   "metadata": {
    "scrolled": true
   },
   "outputs": [
    {
     "name": "stdout",
     "output_type": "stream",
     "text": [
      "Collecting ipywidgets\n",
      "  Obtaining dependency information for ipywidgets from https://files.pythonhosted.org/packages/b8/d4/ce436660098b2f456e2b8fdf76d4f33cbc3766c874c4aa2f772c7a5e943f/ipywidgets-8.1.0-py3-none-any.whl.metadata\n",
      "  Using cached ipywidgets-8.1.0-py3-none-any.whl.metadata (2.4 kB)\n",
      "Requirement already satisfied: comm>=0.1.3 in /home/sebastien/.pyenv/versions/3.10.6/envs/NLP-Systematic-review/lib/python3.10/site-packages (from ipywidgets) (0.1.4)\n",
      "Requirement already satisfied: ipython>=6.1.0 in /home/sebastien/.pyenv/versions/3.10.6/envs/NLP-Systematic-review/lib/python3.10/site-packages (from ipywidgets) (8.15.0)\n",
      "Requirement already satisfied: traitlets>=4.3.1 in /home/sebastien/.pyenv/versions/3.10.6/envs/NLP-Systematic-review/lib/python3.10/site-packages (from ipywidgets) (5.9.0)\n",
      "Collecting widgetsnbextension~=4.0.7 (from ipywidgets)\n",
      "  Obtaining dependency information for widgetsnbextension~=4.0.7 from https://files.pythonhosted.org/packages/8e/d4/d31b12ac0b87e8cc9fdb6ea1eb6596de405eaaa2f25606aaa755d0eebbc0/widgetsnbextension-4.0.8-py3-none-any.whl.metadata\n",
      "  Using cached widgetsnbextension-4.0.8-py3-none-any.whl.metadata (1.6 kB)\n",
      "Collecting jupyterlab-widgets~=3.0.7 (from ipywidgets)\n",
      "  Obtaining dependency information for jupyterlab-widgets~=3.0.7 from https://files.pythonhosted.org/packages/74/5e/2475ac62faf2e342b2bf20b8d8e375f49400ecb38f52e4e0a7557eb1cedb/jupyterlab_widgets-3.0.8-py3-none-any.whl.metadata\n",
      "  Using cached jupyterlab_widgets-3.0.8-py3-none-any.whl.metadata (4.1 kB)\n",
      "Requirement already satisfied: backcall in /home/sebastien/.pyenv/versions/3.10.6/envs/NLP-Systematic-review/lib/python3.10/site-packages (from ipython>=6.1.0->ipywidgets) (0.2.0)\n",
      "Requirement already satisfied: decorator in /home/sebastien/.pyenv/versions/3.10.6/envs/NLP-Systematic-review/lib/python3.10/site-packages (from ipython>=6.1.0->ipywidgets) (5.1.1)\n",
      "Requirement already satisfied: jedi>=0.16 in /home/sebastien/.pyenv/versions/3.10.6/envs/NLP-Systematic-review/lib/python3.10/site-packages (from ipython>=6.1.0->ipywidgets) (0.19.0)\n",
      "Requirement already satisfied: matplotlib-inline in /home/sebastien/.pyenv/versions/3.10.6/envs/NLP-Systematic-review/lib/python3.10/site-packages (from ipython>=6.1.0->ipywidgets) (0.1.6)\n",
      "Requirement already satisfied: pickleshare in /home/sebastien/.pyenv/versions/3.10.6/envs/NLP-Systematic-review/lib/python3.10/site-packages (from ipython>=6.1.0->ipywidgets) (0.7.5)\n",
      "Requirement already satisfied: prompt-toolkit!=3.0.37,<3.1.0,>=3.0.30 in /home/sebastien/.pyenv/versions/3.10.6/envs/NLP-Systematic-review/lib/python3.10/site-packages (from ipython>=6.1.0->ipywidgets) (3.0.39)\n",
      "Requirement already satisfied: pygments>=2.4.0 in /home/sebastien/.pyenv/versions/3.10.6/envs/NLP-Systematic-review/lib/python3.10/site-packages (from ipython>=6.1.0->ipywidgets) (2.16.1)\n",
      "Requirement already satisfied: stack-data in /home/sebastien/.pyenv/versions/3.10.6/envs/NLP-Systematic-review/lib/python3.10/site-packages (from ipython>=6.1.0->ipywidgets) (0.6.2)\n",
      "Requirement already satisfied: exceptiongroup in /home/sebastien/.pyenv/versions/3.10.6/envs/NLP-Systematic-review/lib/python3.10/site-packages (from ipython>=6.1.0->ipywidgets) (1.1.3)\n",
      "Requirement already satisfied: pexpect>4.3 in /home/sebastien/.pyenv/versions/3.10.6/envs/NLP-Systematic-review/lib/python3.10/site-packages (from ipython>=6.1.0->ipywidgets) (4.8.0)\n",
      "Requirement already satisfied: parso<0.9.0,>=0.8.3 in /home/sebastien/.pyenv/versions/3.10.6/envs/NLP-Systematic-review/lib/python3.10/site-packages (from jedi>=0.16->ipython>=6.1.0->ipywidgets) (0.8.3)\n",
      "Requirement already satisfied: ptyprocess>=0.5 in /home/sebastien/.pyenv/versions/3.10.6/envs/NLP-Systematic-review/lib/python3.10/site-packages (from pexpect>4.3->ipython>=6.1.0->ipywidgets) (0.7.0)\n",
      "Requirement already satisfied: wcwidth in /home/sebastien/.pyenv/versions/3.10.6/envs/NLP-Systematic-review/lib/python3.10/site-packages (from prompt-toolkit!=3.0.37,<3.1.0,>=3.0.30->ipython>=6.1.0->ipywidgets) (0.2.6)\n",
      "Requirement already satisfied: executing>=1.2.0 in /home/sebastien/.pyenv/versions/3.10.6/envs/NLP-Systematic-review/lib/python3.10/site-packages (from stack-data->ipython>=6.1.0->ipywidgets) (1.2.0)\n",
      "Requirement already satisfied: asttokens>=2.1.0 in /home/sebastien/.pyenv/versions/3.10.6/envs/NLP-Systematic-review/lib/python3.10/site-packages (from stack-data->ipython>=6.1.0->ipywidgets) (2.3.0)\n",
      "Requirement already satisfied: pure-eval in /home/sebastien/.pyenv/versions/3.10.6/envs/NLP-Systematic-review/lib/python3.10/site-packages (from stack-data->ipython>=6.1.0->ipywidgets) (0.2.2)\n",
      "Requirement already satisfied: six>=1.12.0 in /home/sebastien/.pyenv/versions/3.10.6/envs/NLP-Systematic-review/lib/python3.10/site-packages (from asttokens>=2.1.0->stack-data->ipython>=6.1.0->ipywidgets) (1.16.0)\n",
      "Using cached ipywidgets-8.1.0-py3-none-any.whl (139 kB)\n",
      "Using cached jupyterlab_widgets-3.0.8-py3-none-any.whl (214 kB)\n",
      "Using cached widgetsnbextension-4.0.8-py3-none-any.whl (2.3 MB)\n",
      "Installing collected packages: widgetsnbextension, jupyterlab-widgets, ipywidgets\n",
      "Successfully installed ipywidgets-8.1.0 jupyterlab-widgets-3.0.8 widgetsnbextension-4.0.8\n"
     ]
    }
   ],
   "source": [
    "#!pip freeze|grep tensorflow\n",
    "#!pip uninstall numpy\n",
    "!pip install ipywidgets"
   ]
  },
  {
   "cell_type": "markdown",
   "id": "e450bbd8-9cf0-4757-a0df-28b462e93887",
   "metadata": {},
   "source": [
    "# Import Data"
   ]
  },
  {
   "cell_type": "code",
   "execution_count": 6,
   "id": "be0c9f85-198f-4c88-8c76-568d494b8e84",
   "metadata": {},
   "outputs": [],
   "source": [
    "df = pd.read_csv('/home/sebastien/code/CuevasEli/NLP-Systematic-review/raw_data/data.csv')"
   ]
  },
  {
   "cell_type": "code",
   "execution_count": null,
   "id": "8d8aed89-096a-4bab-a2bc-a515ac7a7867",
   "metadata": {},
   "outputs": [],
   "source": [
    "df.shape"
   ]
  },
  {
   "cell_type": "code",
   "execution_count": null,
   "id": "c256c352-839c-47b0-b3bc-8b85b30f30e7",
   "metadata": {},
   "outputs": [],
   "source": [
    "df.head()"
   ]
  },
  {
   "cell_type": "code",
   "execution_count": null,
   "id": "860e73b2-c370-4940-9a49-cccb841de82a",
   "metadata": {
    "scrolled": true
   },
   "outputs": [],
   "source": [
    "df.info()"
   ]
  },
  {
   "cell_type": "code",
   "execution_count": null,
   "id": "bf0813ad-0d80-4222-a0fe-efe328f83f3a",
   "metadata": {},
   "outputs": [],
   "source": [
    "df['text_len'] = df['abstract_text'].apply(lambda x: len(x))"
   ]
  },
  {
   "cell_type": "code",
   "execution_count": null,
   "id": "6302c43f-2cc3-452c-8e8b-5c5396901c11",
   "metadata": {},
   "outputs": [],
   "source": [
    "sns.histplot(df['text_len'])"
   ]
  },
  {
   "cell_type": "markdown",
   "id": "ac04a81a-4a41-42ec-b2f4-8d77ae65050b",
   "metadata": {},
   "source": [
    "# BERTopic Model"
   ]
  },
  {
   "cell_type": "markdown",
   "id": "2cdd3f3d-da5d-4bc0-8905-3ebdca8c5f79",
   "metadata": {},
   "source": [
    "## setup model"
   ]
  },
  {
   "cell_type": "code",
   "execution_count": 7,
   "id": "a7c03cb0-9783-4696-9a7e-a0a94dc3be73",
   "metadata": {},
   "outputs": [],
   "source": [
    "representation_model = KeyBERTInspired()\n",
    "topic_model = BERTopic()#(representation_model=representation_model)"
   ]
  },
  {
   "cell_type": "code",
   "execution_count": 8,
   "id": "fbac4b04-cc01-441f-8b18-1ea2fffc1c4c",
   "metadata": {
    "scrolled": true
   },
   "outputs": [
    {
     "data": {
      "text/plain": [
       "0      We conducted this study to assess the clinical...\n",
       "1      To determine whether prophylactic treatment wi...\n",
       "2      After the discovery of type C hepatitis virus ...\n",
       "3      Since it is not clear whether testosterone or ...\n",
       "4      The aim was to study the pharmacokinetic param...\n",
       "                             ...                        \n",
       "195    To investigate the sensitivity , specificity a...\n",
       "196    To study the influence of the position of the ...\n",
       "197    To compare the clinical efficacy , patient sat...\n",
       "198    To assess whether intervention by a health vis...\n",
       "199    To evaluate the effect of short term treatment...\n",
       "Name: abstract_text, Length: 200, dtype: object"
      ]
     },
     "execution_count": 8,
     "metadata": {},
     "output_type": "execute_result"
    }
   ],
   "source": [
    "size = 200\n",
    "\n",
    "df_small = df.iloc[0:size]\n",
    "\n",
    "df_train = df_small['abstract_text']\n",
    "df_train"
   ]
  },
  {
   "cell_type": "code",
   "execution_count": 9,
   "id": "7526365c-cc46-4f4d-aa2f-ac022e9c016e",
   "metadata": {},
   "outputs": [
    {
     "name": "stdout",
     "output_type": "stream",
     "text": [
      "CPU times: user 1min 2s, sys: 7.23 s, total: 1min 9s\n",
      "Wall time: 26.6 s\n"
     ]
    }
   ],
   "source": [
    "%%time\n",
    "\n",
    "topics, probs = topic_model.fit_transform(df_train)"
   ]
  },
  {
   "cell_type": "markdown",
   "id": "2aa45830-6aa3-4fae-b6ab-5740dc986803",
   "metadata": {},
   "source": [
    "## Explore model"
   ]
  },
  {
   "cell_type": "code",
   "execution_count": null,
   "id": "a98ba1bf-1659-4c49-948a-ab5c6a85a222",
   "metadata": {
    "scrolled": true
   },
   "outputs": [],
   "source": [
    "topic_info = topic_model.get_topic_info()\n",
    "topic_info"
   ]
  },
  {
   "cell_type": "code",
   "execution_count": null,
   "id": "85fc4a76-c4bb-4af0-9d01-dc83155e3ea9",
   "metadata": {},
   "outputs": [],
   "source": [
    "topic_model.get_topic(1)"
   ]
  },
  {
   "cell_type": "code",
   "execution_count": null,
   "id": "cf8a95a3-1212-4270-a59a-c4b1c5831d7a",
   "metadata": {
    "scrolled": true
   },
   "outputs": [],
   "source": [
    "topic_model.get_topic_freq()\n"
   ]
  },
  {
   "cell_type": "code",
   "execution_count": null,
   "id": "a331175b-f9f3-4566-832e-0227c0f84cdb",
   "metadata": {
    "scrolled": true
   },
   "outputs": [],
   "source": [
    "topic_model.generate_topic_labels()"
   ]
  },
  {
   "cell_type": "code",
   "execution_count": null,
   "id": "0fe36356-e2eb-4262-aacb-c4e4dbfcc1aa",
   "metadata": {},
   "outputs": [],
   "source": [
    "topic_model.find_topics(\"aricle about lung cancer patient care\")"
   ]
  },
  {
   "cell_type": "code",
   "execution_count": null,
   "id": "7a791d8a-ffb7-454a-8f21-9b614ae1cd5a",
   "metadata": {
    "scrolled": true
   },
   "outputs": [],
   "source": [
    "topic_model.hierarchical_topics(df_small['abstract_text'])"
   ]
  },
  {
   "cell_type": "code",
   "execution_count": null,
   "id": "f462df33-fb57-4878-b803-7cab6f142579",
   "metadata": {
    "scrolled": true
   },
   "outputs": [],
   "source": [
    "#from scipy.cluster import hierarchy as sch\n",
    "\n",
    "linkage_function = lambda x: sch.linkage(x, 'single', optimal_ordering=True)\n",
    "hierarchical_topics = topic_model.hierarchical_topics(df_train, linkage_function=linkage_function)\n",
    "#%matplotlib inline\n",
    "topic_model.visualize_hierarchy(hierarchical_topics=hierarchical_topics)\n",
    "#plt.show();"
   ]
  },
  {
   "cell_type": "code",
   "execution_count": null,
   "id": "d6b98e97-4e75-46e9-9dea-4e87adf2d0a8",
   "metadata": {
    "scrolled": true
   },
   "outputs": [],
   "source": [
    "#tree = topic_model.get_topic_tree(hierarchical_topics)\n",
    "#print(tree)\n",
    "#topic_model.visualize_hierarchy()"
   ]
  },
  {
   "cell_type": "code",
   "execution_count": null,
   "id": "c4942779-8dd0-40fa-95b4-df96e6f5fcf9",
   "metadata": {},
   "outputs": [],
   "source": [
    "topic_model.get_document_info(df_train)"
   ]
  },
  {
   "cell_type": "markdown",
   "id": "7a9750c0-51e2-4f2a-9569-b1f026aacc8d",
   "metadata": {},
   "source": [
    "## tag new articles"
   ]
  },
  {
   "cell_type": "code",
   "execution_count": null,
   "id": "a6d2ee9f-07c9-45dc-bc8b-bf60f9fa51ba",
   "metadata": {},
   "outputs": [],
   "source": [
    "tag_size = 500\n",
    "\n",
    "df_new = df['abstract_text'].iloc[size:size+tag_size]\n",
    "\n",
    "topic_model.transform(df['abstract_text'].iloc[size+1])"
   ]
  },
  {
   "cell_type": "markdown",
   "id": "cfc4ce64-e2a2-43a9-889e-4ea6e9d359da",
   "metadata": {},
   "source": [
    "## Extract topic from query"
   ]
  },
  {
   "cell_type": "code",
   "execution_count": null,
   "id": "ec6a9508-363f-4996-9bfc-b1164591d3dc",
   "metadata": {
    "scrolled": true
   },
   "outputs": [],
   "source": [
    "#df_with_topics = pd.concat([df_small,pd.DataFrame({'topic_id':topics,'probability':probs})],axis=1)\n",
    "df_with_topics = pd.concat([df_small['abstract_id'],topic_model.get_document_info(df_train)],axis=1)\n",
    "df_with_topics"
   ]
  },
  {
   "cell_type": "code",
   "execution_count": null,
   "id": "2e3b79bc-54b6-42e4-a858-a30cef9eaa86",
   "metadata": {},
   "outputs": [],
   "source": [
    "def url_destination(id):\n",
    "    #ULR example: 'https://pubmed.ncbi.nlm.nih.gov/16364933/'\n",
    "    url_template = 'https://pubmed.ncbi.nlm.nih.gov/'\n",
    "    return f\"{url_template}{id}\"\n",
    "    \n",
    "def find_article(query,model):\n",
    "    # Find topics from query\n",
    "    f_topics, f_prob = model.find_topics(query)\n",
    "    topic_info = topic_model.get_topic_info()\n",
    "\n",
    "    # extarct the optiosn from the DB\n",
    "    for t in range(len(f_topics)):\n",
    "        topic_id = f_topics[t]\n",
    "        topic_prob = round(f_prob[t]*100,2)\n",
    "        topic_name = topic_info['Name'][topic_info['Topic'] == topic_id].values[0]\n",
    "        article_count = df_with_topics['abstract_id'][df_with_topics['Topic'] == t].count()\n",
    "        print(f\"Recommended Topics: {topic_name} with a probability of {topic_prob}% & we've found {article_count} articles\\n\")\n",
    "\n",
    "    # Ask user for topic selection\n",
    "    selected_id = input('select a topic ID to show the articles:')\n",
    "\n",
    "    # Generate the article destination URL + display the options\n",
    "    article_list = df_with_topics[df_with_topics['Topic'] == int(selected_id)]#.count()\n",
    "    article_list['article_link'] = article_list['abstract_id'].apply(url_destination)\n",
    "    display(article_list[['Document','article_link']])"
   ]
  },
  {
   "cell_type": "code",
   "execution_count": null,
   "id": "e313f2a8-bcdd-40bf-95f9-deec27ff4925",
   "metadata": {},
   "outputs": [],
   "source": [
    "query = 'article reviewing stomach cancer care treatments with clinical data'\n",
    "\n",
    "find_article(query,topic_model)"
   ]
  },
  {
   "cell_type": "code",
   "execution_count": 15,
   "id": "4c3da2e3-5591-4477-880b-5b0e1e4c381a",
   "metadata": {},
   "outputs": [
    {
     "name": "stderr",
     "output_type": "stream",
     "text": [
      "100%|████████████████████████████████████████████████████████████████████████████████████| 4/4 [00:00<00:00, 124.95it/s]"
     ]
    },
    {
     "name": "stdout",
     "output_type": "stream",
     "text": [
      ".\n",
      "├─■──of_the_in_and_were ── Topic: 4\n",
      "└─the_of_and_in_to\n",
      "     ├─the_of_and_in_to\n",
      "     │    ├─■──of_the_and_to_in ── Topic: 2\n",
      "     │    └─the_of_in_and_to\n",
      "     │         ├─■──the_in_and_of_to ── Topic: 0\n",
      "     │         └─■──of_the_and_in_patients ── Topic: 1\n",
      "     └─■──the_of_and_patients_survival ── Topic: 3\n",
      "\n"
     ]
    },
    {
     "name": "stderr",
     "output_type": "stream",
     "text": [
      "\n"
     ]
    }
   ],
   "source": [
    "#%matplotlib inline\n",
    "\n",
    "#topic_model.visualize_topics()\n",
    "#fig.show().show()\n",
    "tree = topic_model.get_topic_tree(topic_model.hierarchical_topics(df_train))\n",
    "print(tree)"
   ]
  },
  {
   "cell_type": "code",
   "execution_count": 11,
   "id": "f5dced76-782c-4323-9c9f-5b9a90997a19",
   "metadata": {},
   "outputs": [],
   "source": [
    "import plotly.io as pio\n",
    "pio.renderers.default='notebook'"
   ]
  },
  {
   "cell_type": "code",
   "execution_count": null,
   "id": "b545895a-5b7e-49df-9e42-e323484150dc",
   "metadata": {},
   "outputs": [],
   "source": []
  }
 ],
 "metadata": {
  "kernelspec": {
   "display_name": "Python 3 (ipykernel)",
   "language": "python",
   "name": "python3"
  },
  "language_info": {
   "codemirror_mode": {
    "name": "ipython",
    "version": 3
   },
   "file_extension": ".py",
   "mimetype": "text/x-python",
   "name": "python",
   "nbconvert_exporter": "python",
   "pygments_lexer": "ipython3",
   "version": "3.10.6"
  }
 },
 "nbformat": 4,
 "nbformat_minor": 5
}
