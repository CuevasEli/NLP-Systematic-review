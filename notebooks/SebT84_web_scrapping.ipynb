{
 "cells": [
  {
   "cell_type": "code",
   "execution_count": 119,
   "id": "4facd4ce-3c3c-4184-9ef0-38d2436a7608",
   "metadata": {},
   "outputs": [],
   "source": [
    "import requests\n",
    "from bs4 import BeautifulSoup\n",
    "\n",
    "#import numpy as np\n",
    "#import pandas as pd\n",
    "\n",
    "%matplotlib inline\n",
    "#import matplotlib"
   ]
  },
  {
   "cell_type": "code",
   "execution_count": 194,
   "id": "7b104a60-55ff-42a9-963a-efdd33f88651",
   "metadata": {},
   "outputs": [],
   "source": [
    "#Scraping setup\n",
    "base_url = \"https://pubmed.ncbi.nlm.nih.gov/\"\n",
    "cited_url = \"https://pubmed.ncbi.nlm.nih.gov/?linkname=pubmed_pubmed_citedin&from_uid=\"\n",
    "article_id = '8003109'\n",
    "f'{base_url}{article_id}'\n",
    "# HTTP request\n",
    "response_article = requests.get(f'{base_url}{article_id}')\n",
    "response_cited = requests.get(f'{cited_url}{article_id}')\n",
    "\n",
    "# HTML parser\n",
    "soup_article = BeautifulSoup(response_article.text, \"html.parser\")\n",
    "soup_cited = BeautifulSoup(response_cited.text, \"html.parser\")"
   ]
  },
  {
   "cell_type": "markdown",
   "id": "27273206-5543-47a2-aa3e-34d294c4c74a",
   "metadata": {},
   "source": [
    "# Getting the article details"
   ]
  },
  {
   "cell_type": "code",
   "execution_count": 189,
   "id": "0c201600-0331-4953-9917-67f3958f9b94",
   "metadata": {},
   "outputs": [
    {
     "data": {
      "text/plain": [
       "True"
      ]
     },
     "execution_count": 189,
     "metadata": {},
     "output_type": "execute_result"
    }
   ],
   "source": [
    "soup_article\n",
    "header == None"
   ]
  },
  {
   "cell_type": "code",
   "execution_count": 195,
   "id": "b4eba21e-601c-4b55-9aff-da852e5492dc",
   "metadata": {},
   "outputs": [
    {
     "data": {
      "text/plain": [
       "{'title': '[Effect of intravenous glucose versus glucose-xylose (1:1) administration on carbohydrate and lipid metabolism after trauma and during infection]',\n",
       " 'publication date': '1994 Feb;21(1):7-13.',\n",
       " 'cited count': 0,\n",
       " 'authors': [{'author': 'T Schricker',\n",
       "   'title': 'Universitätsklinik für Anästhesiologie, Klinikum der Universität Ulm, BRD.'},\n",
       "  {'author': 'G Gross', 'title': ''},\n",
       "  {'author': 'J von der Emde', 'title': ''},\n",
       "  {'author': 'M Georgieff', 'title': ''}]}"
      ]
     },
     "execution_count": 195,
     "metadata": {},
     "output_type": "execute_result"
    }
   ],
   "source": [
    "# getting the header\n",
    "header = soup_article.find(\"header\", class_=\"heading\")\n",
    "\n",
    "#if header == None: \n",
    "    #return {'title':'', 'publication date':'', 'cited count': '' ,'authors':''}\n",
    "\n",
    "# Article Title\n",
    "try:\n",
    "    article_title = header.find('h1', class_=\"heading-title\").get_text().strip()\n",
    "except:\n",
    "    article_title = ''\n",
    "\n",
    "# publication date\n",
    "try:\n",
    "    pub_date = header.find(\"span\", class_=\"secondary-date\").get_text().strip()\n",
    "except:\n",
    "    pub_date = header.find(\"span\", class_=\"cit\").get_text().strip()\n",
    "else:\n",
    "    pub_date = ''\n",
    "\n",
    "#getting article cited count\n",
    "try:\n",
    "    article_cited = soup_cited.find(\"span\", class_=\"value\").get_text()\n",
    "except:\n",
    "    article_cited = 0\n",
    "\n",
    "# AUthors\n",
    "try:\n",
    "    authors_list = header.find(\"div\", class_=\"authors-list\").find_all(\"span\", class_=\"authors-list-item\")\n",
    "except:\n",
    "    authors_list = None\n",
    "    \n",
    "list = []\n",
    "if not authors_list == None:\n",
    "    for a in authors_list:\n",
    "        author_name = a.find(\"a\", class_=\"full-name\").attrs['data-ga-label']\n",
    "        try:\n",
    "            author_title= a.find(\"a\", class_=\"affiliation-link\").attrs['title']\n",
    "        except:\n",
    "            author_title = ''\n",
    "        list.append({'author':author_name,'title':author_title})\n",
    "else:\n",
    "    list.append({'author':'','title':''})\n",
    "\n",
    "article_details = {'title':article_title, 'publication date':pub_date, 'cited count': article_cited ,'authors':list}\n",
    "\n",
    "article_details"
   ]
  },
  {
   "cell_type": "code",
   "execution_count": 150,
   "id": "c0f0b0b5-a957-4ef8-8545-b9f97f1d6820",
   "metadata": {},
   "outputs": [
    {
     "data": {
      "text/plain": [
       "<a class=\"affiliation-link\" href=\"#full-view-affiliation-1\" ref=\"linksrc=author_aff\" title=\"Gimbel Eye Centre, Calgary, Alberta, Canada.\">\n",
       "                1\n",
       "              </a>"
      ]
     },
     "execution_count": 150,
     "metadata": {},
     "output_type": "execute_result"
    }
   ],
   "source": [
    "authors_list[0].find(\"a\", class_=\"affiliation-link\")"
   ]
  },
  {
   "cell_type": "markdown",
   "id": "33a81bfa-ec50-4b4f-a1ce-d5c7685ebe7c",
   "metadata": {
    "scrolled": true
   },
   "source": [
    "# getting article cited count"
   ]
  },
  {
   "cell_type": "code",
   "execution_count": 117,
   "id": "3c71c026-585e-4d18-b144-cee7d0772294",
   "metadata": {},
   "outputs": [
    {
     "data": {
      "text/plain": [
       "'78'"
      ]
     },
     "execution_count": 117,
     "metadata": {},
     "output_type": "execute_result"
    }
   ],
   "source": [
    "soup_cited.find(\"span\", class_=\"value\").get_text()"
   ]
  },
  {
   "cell_type": "code",
   "execution_count": 138,
   "id": "43ece270-420c-4a09-bd59-3bf94ac036d7",
   "metadata": {},
   "outputs": [
    {
     "data": {
      "text/plain": [
       "{'test': 'tes1',\n",
       " 'test2': 'test2',\n",
       " 'title': 'Review of Breast Cancer Pathologigcal Image Processing',\n",
       " 'publication date': 'eCollection 2021.',\n",
       " 'cited count': '7',\n",
       " 'authors': [{'author': 'Ya-Nan Zhang',\n",
       "   'title': 'School of Computer Science and Technology, Harbin University of Science and Technology, Harbin 150080, China.'},\n",
       "  {'author': 'Ke-Rui Xia',\n",
       "   'title': 'HRG International Institute (Hefei) of Research and Innovation, Hefei 230000, China.'},\n",
       "  {'author': 'Chang-Yi Li',\n",
       "   'title': 'School of Computer Science and Technology, Harbin University of Science and Technology, Harbin 150080, China.'},\n",
       "  {'author': 'Ben-Li Wei',\n",
       "   'title': 'School of Computer Science and Technology, Harbin University of Science and Technology, Harbin 150080, China.'},\n",
       "  {'author': 'Bing Zhang',\n",
       "   'title': 'School of Computer Science and Technology, Harbin University of Science and Technology, Harbin 150080, China.'}]}"
      ]
     },
     "execution_count": 138,
     "metadata": {},
     "output_type": "execute_result"
    }
   ],
   "source": [
    "d = dict({'test':'tes1','test2':'test2'})#.items() + article_details.items())\n",
    "#article_details.items()\n",
    "d.update(article_details)\n",
    "d"
   ]
  }
 ],
 "metadata": {
  "kernelspec": {
   "display_name": "Python 3 (ipykernel)",
   "language": "python",
   "name": "python3"
  },
  "language_info": {
   "codemirror_mode": {
    "name": "ipython",
    "version": 3
   },
   "file_extension": ".py",
   "mimetype": "text/x-python",
   "name": "python",
   "nbconvert_exporter": "python",
   "pygments_lexer": "ipython3",
   "version": "3.10.6"
  }
 },
 "nbformat": 4,
 "nbformat_minor": 5
}
