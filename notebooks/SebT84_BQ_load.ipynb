{
 "cells": [
  {
   "cell_type": "code",
   "execution_count": 4,
   "id": "1b9a8686-4e1c-449e-9122-a7181b29cf0a",
   "metadata": {},
   "outputs": [],
   "source": [
    "import pandas as pd\n",
    "\n",
    "from google.cloud import bigquery\n",
    "#from bertopic import BERTopic\n",
    "#from colorama import Fore, Style\n",
    "#from pathlib import Path"
   ]
  },
  {
   "cell_type": "code",
   "execution_count": null,
   "id": "0b8c8e92-defa-4082-81c8-d8aa48cde43b",
   "metadata": {
    "scrolled": true
   },
   "outputs": [],
   "source": [
    "\n"
   ]
  },
  {
   "cell_type": "code",
   "execution_count": 71,
   "id": "ff67c029-3ee9-47ab-9da2-bddab9bc537b",
   "metadata": {},
   "outputs": [],
   "source": [
    "#df = pd.read_csv('/home/sebastien/code/CuevasEli/NLP-Systematic-review/raw_data/data.csv')\n",
    "df = pd.read_csv('/home/sebastien/code/CuevasEli/NLP-Systematic-review/raw_data/europe-central2-a_instance-20230905-153639_NLP-Systematic-review_df_with_topics_100.csv')#, delimiter=\"\\t\")"
   ]
  },
  {
   "cell_type": "code",
   "execution_count": 72,
   "id": "c5894bd4-d23c-46f2-ba01-03723a66eb61",
   "metadata": {
    "scrolled": true
   },
   "outputs": [
    {
     "data": {
      "text/html": [
       "<div>\n",
       "<style scoped>\n",
       "    .dataframe tbody tr th:only-of-type {\n",
       "        vertical-align: middle;\n",
       "    }\n",
       "\n",
       "    .dataframe tbody tr th {\n",
       "        vertical-align: top;\n",
       "    }\n",
       "\n",
       "    .dataframe thead th {\n",
       "        text-align: right;\n",
       "    }\n",
       "</style>\n",
       "<table border=\"1\" class=\"dataframe\">\n",
       "  <thead>\n",
       "    <tr style=\"text-align: right;\">\n",
       "      <th></th>\n",
       "      <th>Unnamed: 0</th>\n",
       "      <th>abstract_id</th>\n",
       "      <th>Document</th>\n",
       "      <th>Topic</th>\n",
       "      <th>Name</th>\n",
       "      <th>Representation</th>\n",
       "      <th>Representative_Docs</th>\n",
       "      <th>Top_n_words</th>\n",
       "      <th>Probability</th>\n",
       "      <th>Representative_document</th>\n",
       "    </tr>\n",
       "  </thead>\n",
       "  <tbody>\n",
       "    <tr>\n",
       "      <th>0</th>\n",
       "      <td>0</td>\n",
       "      <td>12925107</td>\n",
       "      <td>To investigate the phamacokinetics and serum b...</td>\n",
       "      <td>519</td>\n",
       "      <td>519_meropenem_piperacillin_mic_imipenemcilastatin</td>\n",
       "      <td>['meropenem', 'piperacillin', 'mic', 'imipenem...</td>\n",
       "      <td>['Meropenem is commonly used to treat lung inf...</td>\n",
       "      <td>meropenem - piperacillin - mic - imipenemcilas...</td>\n",
       "      <td>0.615971</td>\n",
       "      <td>False</td>\n",
       "    </tr>\n",
       "    <tr>\n",
       "      <th>1</th>\n",
       "      <td>1</td>\n",
       "      <td>24641302</td>\n",
       "      <td>Electrobrasion , like dermabrasion , is a meth...</td>\n",
       "      <td>-1</td>\n",
       "      <td>-1_on_and_blood_by</td>\n",
       "      <td>['on', 'and', 'blood', 'by', 'the', 'that', 't...</td>\n",
       "      <td>[\"Depressive and anxiety symptoms in older adu...</td>\n",
       "      <td>on - and - blood - by - the - that - to - of -...</td>\n",
       "      <td>0.000000</td>\n",
       "      <td>False</td>\n",
       "    </tr>\n",
       "    <tr>\n",
       "      <th>2</th>\n",
       "      <td>2</td>\n",
       "      <td>24597620</td>\n",
       "      <td>The primary aim of rheumatoid arthritis ( RA )...</td>\n",
       "      <td>-1</td>\n",
       "      <td>-1_on_and_blood_by</td>\n",
       "      <td>['on', 'and', 'blood', 'by', 'the', 'that', 't...</td>\n",
       "      <td>[\"Depressive and anxiety symptoms in older adu...</td>\n",
       "      <td>on - and - blood - by - the - that - to - of -...</td>\n",
       "      <td>0.000000</td>\n",
       "      <td>False</td>\n",
       "    </tr>\n",
       "    <tr>\n",
       "      <th>3</th>\n",
       "      <td>3</td>\n",
       "      <td>22489991</td>\n",
       "      <td>Because the Bonfils fibrescope has a semi-rigi...</td>\n",
       "      <td>1965</td>\n",
       "      <td>1965_trachlight_bent_intubation_lightwand</td>\n",
       "      <td>['trachlight', 'bent', 'intubation', 'lightwan...</td>\n",
       "      <td>['The Eschmann multiple-use introducer is wide...</td>\n",
       "      <td>trachlight - bent - intubation - lightwand - t...</td>\n",
       "      <td>1.000000</td>\n",
       "      <td>True</td>\n",
       "    </tr>\n",
       "    <tr>\n",
       "      <th>4</th>\n",
       "      <td>4</td>\n",
       "      <td>9752963</td>\n",
       "      <td>Canal wall down and intact canal wall tympanom...</td>\n",
       "      <td>552</td>\n",
       "      <td>552_tympanoplasty_tympanic_myringoplasty_airbone</td>\n",
       "      <td>['tympanoplasty', 'tympanic', 'myringoplasty',...</td>\n",
       "      <td>['To compare the effectiveness of paper-patch ...</td>\n",
       "      <td>tympanoplasty - tympanic - myringoplasty - air...</td>\n",
       "      <td>0.122631</td>\n",
       "      <td>False</td>\n",
       "    </tr>\n",
       "  </tbody>\n",
       "</table>\n",
       "</div>"
      ],
      "text/plain": [
       "   Unnamed: 0  abstract_id                                           Document  \\\n",
       "0           0     12925107  To investigate the phamacokinetics and serum b...   \n",
       "1           1     24641302  Electrobrasion , like dermabrasion , is a meth...   \n",
       "2           2     24597620  The primary aim of rheumatoid arthritis ( RA )...   \n",
       "3           3     22489991  Because the Bonfils fibrescope has a semi-rigi...   \n",
       "4           4      9752963  Canal wall down and intact canal wall tympanom...   \n",
       "\n",
       "   Topic                                               Name  \\\n",
       "0    519  519_meropenem_piperacillin_mic_imipenemcilastatin   \n",
       "1     -1                                 -1_on_and_blood_by   \n",
       "2     -1                                 -1_on_and_blood_by   \n",
       "3   1965          1965_trachlight_bent_intubation_lightwand   \n",
       "4    552   552_tympanoplasty_tympanic_myringoplasty_airbone   \n",
       "\n",
       "                                      Representation  \\\n",
       "0  ['meropenem', 'piperacillin', 'mic', 'imipenem...   \n",
       "1  ['on', 'and', 'blood', 'by', 'the', 'that', 't...   \n",
       "2  ['on', 'and', 'blood', 'by', 'the', 'that', 't...   \n",
       "3  ['trachlight', 'bent', 'intubation', 'lightwan...   \n",
       "4  ['tympanoplasty', 'tympanic', 'myringoplasty',...   \n",
       "\n",
       "                                 Representative_Docs  \\\n",
       "0  ['Meropenem is commonly used to treat lung inf...   \n",
       "1  [\"Depressive and anxiety symptoms in older adu...   \n",
       "2  [\"Depressive and anxiety symptoms in older adu...   \n",
       "3  ['The Eschmann multiple-use introducer is wide...   \n",
       "4  ['To compare the effectiveness of paper-patch ...   \n",
       "\n",
       "                                         Top_n_words  Probability  \\\n",
       "0  meropenem - piperacillin - mic - imipenemcilas...     0.615971   \n",
       "1  on - and - blood - by - the - that - to - of -...     0.000000   \n",
       "2  on - and - blood - by - the - that - to - of -...     0.000000   \n",
       "3  trachlight - bent - intubation - lightwand - t...     1.000000   \n",
       "4  tympanoplasty - tympanic - myringoplasty - air...     0.122631   \n",
       "\n",
       "   Representative_document  \n",
       "0                    False  \n",
       "1                    False  \n",
       "2                    False  \n",
       "3                     True  \n",
       "4                    False  "
      ]
     },
     "execution_count": 72,
     "metadata": {},
     "output_type": "execute_result"
    }
   ],
   "source": [
    "df.head()"
   ]
  },
  {
   "cell_type": "code",
   "execution_count": 74,
   "id": "9311560f-a46d-4a05-94ab-5d60bc926b22",
   "metadata": {},
   "outputs": [],
   "source": [
    "def compress(df, **kwargs):\n",
    "    \"\"\"\n",
    "    Reduces the size of the DataFrame by downcasting numerical columns\n",
    "    \"\"\"\n",
    "    input_size = df.memory_usage(index=True).sum()/ 1024**2\n",
    "    print(\"old dataframe size: \", round(input_size,2), 'MB')\n",
    "    \n",
    "    in_size = df.memory_usage(index=True).sum()\n",
    "\n",
    "    for t in [\"float\", \"integer\"]:\n",
    "        l_cols = list(df.select_dtypes(include=t))\n",
    "\n",
    "        for col in l_cols:\n",
    "            df[col] = pd.to_numeric(df[col], downcast=t)\n",
    "\n",
    "    out_size = df.memory_usage(index=True).sum()\n",
    "    ratio = (1 - round(out_size / in_size, 2)) * 100\n",
    "    \n",
    "    print(\"optimized size by {} %\".format(round(ratio,2)))\n",
    "    print(\"new DataFrame size: \", round(out_size / 1024**2,2), \" MB\")\n",
    "\n",
    "    return df"
   ]
  },
  {
   "cell_type": "code",
   "execution_count": 17,
   "id": "3078c39f-df4b-4c1f-b41d-2b42eb863eba",
   "metadata": {},
   "outputs": [
    {
     "name": "stdout",
     "output_type": "stream",
     "text": [
      "<class 'pandas.core.frame.DataFrame'>\n",
      "RangeIndex: 190654 entries, 0 to 190653\n",
      "Data columns (total 9 columns):\n",
      " #   Column                   Non-Null Count   Dtype  \n",
      "---  ------                   --------------   -----  \n",
      " 0   abstract_id              190654 non-null  int32  \n",
      " 1   Document                 190654 non-null  object \n",
      " 2   Topic                    190654 non-null  int16  \n",
      " 3   Name                     190654 non-null  object \n",
      " 4   Representation           190654 non-null  object \n",
      " 5   Representative_Docs      190654 non-null  object \n",
      " 6   Top_n_words              190654 non-null  object \n",
      " 7   Probability              190654 non-null  float32\n",
      " 8   Representative_document  190654 non-null  bool   \n",
      "dtypes: bool(1), float32(1), int16(1), int32(1), object(5)\n",
      "memory usage: 9.3+ MB\n"
     ]
    }
   ],
   "source": [
    "df.info()"
   ]
  },
  {
   "cell_type": "code",
   "execution_count": 75,
   "id": "7ddb56eb-ffe3-4a6a-ae18-a1f830f4927a",
   "metadata": {},
   "outputs": [
    {
     "name": "stdout",
     "output_type": "stream",
     "text": [
      "old dataframe size:  13.27 MB\n",
      "optimized size by 25.0 %\n",
      "new DataFrame size:  10.0  MB\n",
      "<class 'pandas.core.frame.DataFrame'>\n",
      "RangeIndex: 190654 entries, 0 to 190653\n",
      "Data columns (total 10 columns):\n",
      " #   Column                   Non-Null Count   Dtype  \n",
      "---  ------                   --------------   -----  \n",
      " 0   Unnamed: 0               190654 non-null  int32  \n",
      " 1   abstract_id              190654 non-null  int32  \n",
      " 2   Document                 190654 non-null  object \n",
      " 3   Topic                    190654 non-null  int16  \n",
      " 4   Name                     190654 non-null  object \n",
      " 5   Representation           190654 non-null  object \n",
      " 6   Representative_Docs      190654 non-null  object \n",
      " 7   Top_n_words              190654 non-null  object \n",
      " 8   Probability              190654 non-null  float32\n",
      " 9   Representative_document  190654 non-null  bool   \n",
      "dtypes: bool(1), float32(1), int16(1), int32(2), object(5)\n",
      "memory usage: 10.0+ MB\n"
     ]
    }
   ],
   "source": [
    "df_2 = compress(df)\n",
    "#df_2.drop(columns='Unnamed: 0',inplace=True)\n",
    "df_2.info()"
   ]
  },
  {
   "cell_type": "code",
   "execution_count": 2,
   "id": "49181703-dd91-4767-a67a-6e27b8ae6f12",
   "metadata": {},
   "outputs": [],
   "source": [
    "# Variable\n",
    "GCP_PROJECT_SEBT84='useful-proposal-392710'\n",
    "GCP_REGION='europe-west1'\n",
    "\n",
    "# BigQuery\n",
    "BQ_REGION='EU'\n",
    "BQ_DATASET='enhancing_systemic_reviews_nlp'\n",
    "TABLE = 'pubmed'\n",
    "\n",
    "# Cloud Storage\n",
    "BUCKET_NAME='enhancing_systemic_reviews_nlp'"
   ]
  },
  {
   "cell_type": "code",
   "execution_count": null,
   "id": "c997e5b8-ca25-4745-aa5a-9d8af5df57bd",
   "metadata": {
    "scrolled": true
   },
   "outputs": [],
   "source": [
    "full_table_name = f\"{GCP_PROJECT_SEBT84}.{BQ_DATASET}.{TABLE}\"\n",
    "\n",
    "client = bigquery.Client()\n",
    "query_job = client.query(\n",
    "        f\"\"\"\n",
    "        SELECT\n",
    "          *\n",
    "        FROM {GCP_PROJECT_SEBT84}.{BQ_DATASET}.raw_{TABLE}\n",
    "        LIMIT 10\"\"\"\n",
    "    )\n",
    "\n",
    "results = query_job.result()  # Waits for job to complete.\n",
    "df = results.to_dataframe()"
   ]
  },
  {
   "cell_type": "code",
   "execution_count": null,
   "id": "479b6d2d-9355-4a98-abf4-2f55d4aaeb6a",
   "metadata": {
    "scrolled": true
   },
   "outputs": [],
   "source": [
    "df.head()"
   ]
  },
  {
   "cell_type": "code",
   "execution_count": null,
   "id": "bc245430-bc81-4c3f-896e-b754aac79af7",
   "metadata": {},
   "outputs": [],
   "source": [
    "df_with_topics = pd.concat([df_small['abstract_id'],topic_model.get_document_info(df_train)],axis=1)"
   ]
  },
  {
   "cell_type": "code",
   "execution_count": null,
   "id": "9ab23c86-9a4b-4b30-abc1-9d968836188e",
   "metadata": {},
   "outputs": [],
   "source": [
    "#path = '/home/sebastien/code/CuevasEli/NLP-Systematic-review\n",
    "path = '/home/sebastien/code/CuevasEli/NLP-Systematic-review/nlp_systematic_review/model'\n",
    "loaded_model = BERTopic.load(path)"
   ]
  },
  {
   "cell_type": "code",
   "execution_count": null,
   "id": "8b0f97a8-8ecf-4970-a7af-5bd815833897",
   "metadata": {},
   "outputs": [],
   "source": [
    "loaded_model.get_document_info(df['abstract_text'])"
   ]
  },
  {
   "cell_type": "code",
   "execution_count": 76,
   "id": "46c93f61-a935-424d-a5e1-31001a27d937",
   "metadata": {},
   "outputs": [],
   "source": [
    "def load_data_bq(df: pd.DataFrame\n",
    "                 , replace: bool):\n",
    "    full_table_name = f\"{GCP_PROJECT_SEBT84}.{BQ_DATASET}.topics_{TABLE}\"\n",
    "\n",
    "    client = bigquery.Client()\n",
    "\n",
    "    write_mode = \"WRITE_TRUNCATE\" if replace else \"WRITE_APPEND\"\n",
    "    job_config = bigquery.LoadJobConfig(write_disposition=write_mode)\n",
    "\n",
    "    job = client.load_table_from_dataframe(df, full_table_name, job_config=job_config)\n",
    "    result = job.result()\n",
    "\n",
    "    print(f\"✅ Data saved to bigquery, with shape {df.shape}\")"
   ]
  },
  {
   "cell_type": "code",
   "execution_count": 77,
   "id": "37446a37-af0c-483c-922e-31b11023329f",
   "metadata": {
    "scrolled": true
   },
   "outputs": [
    {
     "name": "stdout",
     "output_type": "stream",
     "text": [
      "✅ Data saved to bigquery, with shape (190654, 10)\n"
     ]
    }
   ],
   "source": [
    "load_data_bq(df_2, replace=True)"
   ]
  },
  {
   "cell_type": "code",
   "execution_count": null,
   "id": "abad68d4-0cce-4c34-aaea-d3c32c145425",
   "metadata": {},
   "outputs": [],
   "source": [
    "def preprocess_data(path_to_csv, frac):\n",
    "    \"\"\"provide the path to csv and the frac of data you want to use and it will\n",
    "    return the preprocessed dataset in pd.DataFrame format\"\"\"\n",
    "\n",
    "    assert isinstance(path_to_csv, str), \"path_to_csv should be a string\"\n",
    "    df = pd.read_csv(path_to_csv)\n",
    "    df = df.sort_values(by=['abstract_id', 'line_number'])\n",
    "    df['abstract_text'] = df['abstract_text'].astype(str)\n",
    "    concatenated_abstract = df.groupby('abstract_id')['abstract_text'].apply(' '.join).reset_index()\n",
    "    df = df.merge(concatenated_abstract, on='abstract_id', how='left')\n",
    "    data = df[['abstract_id', 'abstract_text_y']].drop_duplicates().rename(columns={'abstract_text_y': 'abstract_text'})\n",
    "    data = data.sample(frac=frac).reset_index(drop=True)\n",
    "\n",
    "    return data"
   ]
  },
  {
   "cell_type": "code",
   "execution_count": null,
   "id": "2e3c6602-4487-478c-ab5c-e217409f8d42",
   "metadata": {},
   "outputs": [],
   "source": [
    "def preprocess_data(df, frac=0.2):\n",
    "    \"\"\"provide the path to csv and the frac of data you want to use and it will\n",
    "    return the preprocessed dataset in pd.DataFrame format\"\"\"\n",
    "\n",
    "    assert isinstance(df, pd.DataFrame), \"path_to_csv should be a string\"\n",
    "    \n",
    "    df = df.sort_values(by=['abstract_id', 'line_number'])\n",
    "    df['abstract_text'] = df['abstract_text'].astype(str)\n",
    "    concatenated_abstract = df.groupby('abstract_id')['abstract_text'].apply(' '.join).reset_index()\n",
    "    df = df.merge(concatenated_abstract, on='abstract_id', how='left')\n",
    "    data = df[['abstract_id', 'abstract_text_y']].drop_duplicates().rename(columns={'abstract_text_y': 'abstract_text'})\n",
    "    #data = data.sample(frac=frac).reset_index(drop=True)\n",
    "\n",
    "    return data"
   ]
  },
  {
   "cell_type": "code",
   "execution_count": null,
   "id": "b89772dd-de10-491a-b5d5-fce6b96769d2",
   "metadata": {},
   "outputs": [],
   "source": [
    "df_2 = preprocess_data(df)"
   ]
  },
  {
   "cell_type": "code",
   "execution_count": null,
   "id": "3a84e2ae-8245-4dbd-a676-ec7ab1fc2281",
   "metadata": {},
   "outputs": [],
   "source": [
    "load_data_bq(df_2,replace=True)"
   ]
  },
  {
   "cell_type": "code",
   "execution_count": null,
   "id": "d84f58fd-72d8-4eb1-85da-776f1245a05e",
   "metadata": {},
   "outputs": [],
   "source": [
    "def get_data_from_bq(table):\n",
    "    full_table_name = f\"{GCP_PROJECT_SEBT84}.{BQ_DATASET}.concat_{TABLE}\"\n",
    "\n",
    "    client = bigquery.Client(project=GCP_PROJECT_SEBT84)\n",
    "    query = f\"\"\"\n",
    "        SELECT\n",
    "          count(*)\n",
    "        FROM {full_table_name}\n",
    "        \"\"\"\n",
    "    query_job = client.query(query)\n",
    "    \n",
    "    results = query_job.result()  # Waits for job to complete.\n",
    "    df = results.to_dataframe()\n",
    "    count = int(df.values)\n",
    "    return count"
   ]
  },
  {
   "cell_type": "code",
   "execution_count": null,
   "id": "6c75a2a1-6213-48dc-8966-8cf150bc94e1",
   "metadata": {},
   "outputs": [],
   "source": [
    "full_table_name = f\"{GCP_PROJECT_SEBT84}.{BQ_DATASET}.concat_{TABLE}\"\n",
    "frac = 5\n",
    "client = bigquery.Client(project=GCP_PROJECT_SEBT84)\n",
    "query = f\"\"\"\n",
    "        SELECT\n",
    "          *\n",
    "        FROM {full_table_name}\n",
    "        limit {frac}\n",
    "        \"\"\"\n",
    "query_job = client.query(query)\n",
    "    \n",
    "results = query_job.result()  # Waits for job to complete.\n",
    "df = results.to_dataframe()\n",
    "df"
   ]
  },
  {
   "cell_type": "code",
   "execution_count": null,
   "id": "08b56b72-db23-4f0b-856f-aee567bf8113",
   "metadata": {},
   "outputs": [],
   "source": [
    "size = get_data_from_bq(TABLE)"
   ]
  },
  {
   "cell_type": "code",
   "execution_count": null,
   "id": "01ef74e4-2056-4a52-a9ce-9db5f4066ff4",
   "metadata": {},
   "outputs": [],
   "source": [
    "round(size * 0.333)"
   ]
  },
  {
   "cell_type": "markdown",
   "id": "d2350615-fdb5-411b-967c-97f992623ead",
   "metadata": {},
   "source": [
    "## API v2 - article title"
   ]
  },
  {
   "cell_type": "code",
   "execution_count": 19,
   "id": "c5f50b0c-837e-489e-acce-8962e3151ec7",
   "metadata": {},
   "outputs": [],
   "source": [
    "def get_article_title():\n",
    "    full_table_name = f\"{GCP_PROJECT_SEBT84}.{BQ_DATASET}.article_title_2_{TABLE}\"\n",
    "\n",
    "    client = bigquery.Client(project=GCP_PROJECT_SEBT84)\n",
    "    query = f\"\"\"\n",
    "        SELECT\n",
    "          article_id\n",
    "          , article_title\n",
    "        FROM {full_table_name}\n",
    "        \"\"\"\n",
    "    query_job = client.query(query)\n",
    "    \n",
    "    results = query_job.result().to_dataframe()  # Waits for job to complete.\n",
    "\n",
    "    results[['article_id']] = results[['article_id']].astype(object)\n",
    "    \n",
    "    return results"
   ]
  },
  {
   "cell_type": "code",
   "execution_count": 23,
   "id": "d1ba2b2f-6841-4fbb-bc9c-2bb1be430997",
   "metadata": {},
   "outputs": [
    {
     "data": {
      "text/html": [
       "<div>\n",
       "<style scoped>\n",
       "    .dataframe tbody tr th:only-of-type {\n",
       "        vertical-align: middle;\n",
       "    }\n",
       "\n",
       "    .dataframe tbody tr th {\n",
       "        vertical-align: top;\n",
       "    }\n",
       "\n",
       "    .dataframe thead th {\n",
       "        text-align: right;\n",
       "    }\n",
       "</style>\n",
       "<table border=\"1\" class=\"dataframe\">\n",
       "  <thead>\n",
       "    <tr style=\"text-align: right;\">\n",
       "      <th></th>\n",
       "      <th>article_id</th>\n",
       "      <th>article_title</th>\n",
       "    </tr>\n",
       "  </thead>\n",
       "  <tbody>\n",
       "    <tr>\n",
       "      <th>0</th>\n",
       "      <td>18755343</td>\n",
       "      <td>10-year follow-up of a prospective randomized ...</td>\n",
       "    </tr>\n",
       "    <tr>\n",
       "      <th>1</th>\n",
       "      <td>17940146</td>\n",
       "      <td>A comprehensive rehabilitation program with qu...</td>\n",
       "    </tr>\n",
       "    <tr>\n",
       "      <th>2</th>\n",
       "      <td>17763261</td>\n",
       "      <td>A one-year randomized double-blind, multicentr...</td>\n",
       "    </tr>\n",
       "    <tr>\n",
       "      <th>3</th>\n",
       "      <td>20151971</td>\n",
       "      <td>A placebo-controlled exploratory study investi...</td>\n",
       "    </tr>\n",
       "    <tr>\n",
       "      <th>4</th>\n",
       "      <td>23257370</td>\n",
       "      <td>A prospective randomized trial of thrombectomy...</td>\n",
       "    </tr>\n",
       "  </tbody>\n",
       "</table>\n",
       "</div>"
      ],
      "text/plain": [
       "  article_id                                      article_title\n",
       "0   18755343  10-year follow-up of a prospective randomized ...\n",
       "1   17940146  A comprehensive rehabilitation program with qu...\n",
       "2   17763261  A one-year randomized double-blind, multicentr...\n",
       "3   20151971  A placebo-controlled exploratory study investi...\n",
       "4   23257370  A prospective randomized trial of thrombectomy..."
      ]
     },
     "execution_count": 23,
     "metadata": {},
     "output_type": "execute_result"
    }
   ],
   "source": [
    "#df = get_article_title()\n",
    "df.head()"
   ]
  },
  {
   "cell_type": "code",
   "execution_count": 80,
   "id": "03a80a1e-2859-4182-9736-9bd913632f43",
   "metadata": {
    "scrolled": true
   },
   "outputs": [
    {
     "data": {
      "text/plain": [
       "'No title available for this article.'"
      ]
     },
     "execution_count": 80,
     "metadata": {},
     "output_type": "execute_result"
    }
   ],
   "source": [
    "article_id = 1776\n",
    "\n",
    "try:\n",
    "    index_t = df.index[df['article_id'] == article_id].tolist()[0]\n",
    "    title = df.iloc[index_t]['article_title']\n",
    "except:\n",
    "    title = 'No title available for this article.'\n",
    "\n",
    "title"
   ]
  },
  {
   "cell_type": "code",
   "execution_count": null,
   "id": "54088071-000b-4ed0-9182-15f91dde43be",
   "metadata": {},
   "outputs": [],
   "source": [
    "            if article_id in article_titles['article_id'].tolist():\n",
    "                article_title_index = article_titles.index[article_titles['article_id'] == article_id].tolist()[0]\n",
    "                article_title = article_titles.iloc[article_title_index]['article_title']\n",
    "            else:\n",
    "                article_title = 'No title available for this article.'"
   ]
  },
  {
   "cell_type": "code",
   "execution_count": 54,
   "id": "737c312e-b9ca-41bd-943a-51452053a47e",
   "metadata": {
    "scrolled": true
   },
   "outputs": [
    {
     "data": {
      "text/plain": [
       "'A placebo-controlled exploratory study investigating the efficacy and safety of the phosphodiesterase type 5 inhibitor UK-369,003 for the treatment of men with storage lower urinary tract symptoms associated with a clinical diagnosis of overactive bladder.'"
      ]
     },
     "execution_count": 54,
     "metadata": {},
     "output_type": "execute_result"
    }
   ],
   "source": [
    "index_t = df.index[df['article_id'] == article_id].tolist()[0]\n",
    "\n",
    "df.iloc[index_t]['article_title']"
   ]
  },
  {
   "cell_type": "code",
   "execution_count": 62,
   "id": "2eb40b57-fb17-4c74-adb1-6045151c4970",
   "metadata": {},
   "outputs": [
    {
     "data": {
      "text/plain": [
       "True"
      ]
     },
     "execution_count": 62,
     "metadata": {},
     "output_type": "execute_result"
    }
   ],
   "source": [
    "article_id in df['article_id'].tolist()"
   ]
  },
  {
   "cell_type": "code",
   "execution_count": 70,
   "id": "91f40c4e-99d8-4b79-bbba-5fe0b68e331f",
   "metadata": {},
   "outputs": [],
   "source": [
    "from bertopic import *"
   ]
  }
 ],
 "metadata": {
  "kernelspec": {
   "display_name": "Python 3 (ipykernel)",
   "language": "python",
   "name": "python3"
  },
  "language_info": {
   "codemirror_mode": {
    "name": "ipython",
    "version": 3
   },
   "file_extension": ".py",
   "mimetype": "text/x-python",
   "name": "python",
   "nbconvert_exporter": "python",
   "pygments_lexer": "ipython3",
   "version": "3.10.6"
  }
 },
 "nbformat": 4,
 "nbformat_minor": 5
}
