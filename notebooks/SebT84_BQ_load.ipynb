{
 "cells": [
  {
   "cell_type": "code",
   "execution_count": 6,
   "id": "1b9a8686-4e1c-449e-9122-a7181b29cf0a",
   "metadata": {},
   "outputs": [],
   "source": [
    "import pandas as pd\n",
    "\n",
    "from google.cloud import bigquery\n",
    "#from colorama import Fore, Style\n",
    "#from pathlib import Path"
   ]
  },
  {
   "cell_type": "code",
   "execution_count": null,
   "id": "0b8c8e92-defa-4082-81c8-d8aa48cde43b",
   "metadata": {
    "scrolled": true
   },
   "outputs": [],
   "source": [
    "\n"
   ]
  },
  {
   "cell_type": "code",
   "execution_count": null,
   "id": "ff67c029-3ee9-47ab-9da2-bddab9bc537b",
   "metadata": {},
   "outputs": [],
   "source": [
    "#df = pd.read_csv('/home/sebastien/code/CuevasEli/NLP-Systematic-review/raw_data/data.csv')\n",
    "df = pd.read_csv('/home/sebastien/code/CuevasEli/NLP-Systematic-review/raw_data/PubMed.csv')"
   ]
  },
  {
   "cell_type": "code",
   "execution_count": null,
   "id": "c5894bd4-d23c-46f2-ba01-03723a66eb61",
   "metadata": {},
   "outputs": [],
   "source": [
    "df.head()"
   ]
  },
  {
   "cell_type": "code",
   "execution_count": 7,
   "id": "49181703-dd91-4767-a67a-6e27b8ae6f12",
   "metadata": {},
   "outputs": [],
   "source": [
    "# Variable\n",
    "GCP_PROJECT_SEBT84='useful-proposal-392710'\n",
    "GCP_REGION='europe-west1'\n",
    "\n",
    "# BigQuery\n",
    "BQ_REGION='EU'\n",
    "BQ_DATASET='enhancing_systemic_reviews_nlp'\n",
    "TABLE = 'pubmed'\n",
    "\n",
    "# Cloud Storage\n",
    "BUCKET_NAME='enhancing_systemic_reviews_nlp'"
   ]
  },
  {
   "cell_type": "code",
   "execution_count": 8,
   "id": "c997e5b8-ca25-4745-aa5a-9d8af5df57bd",
   "metadata": {
    "scrolled": true
   },
   "outputs": [],
   "source": [
    "full_table_name = f\"{GCP_PROJECT_SEBT84}.{BQ_DATASET}.{TABLE}\"\n",
    "\n",
    "client = bigquery.Client()\n",
    "query_job = client.query(\n",
    "        f\"\"\"\n",
    "        SELECT\n",
    "          *\n",
    "        FROM {GCP_PROJECT_SEBT84}.{BQ_DATASET}.raw_{TABLE}\n",
    "        LIMIT 10\"\"\"\n",
    "    )\n",
    "\n",
    "results = query_job.result()  # Waits for job to complete.\n",
    "df = results.to_dataframe()"
   ]
  },
  {
   "cell_type": "code",
   "execution_count": 9,
   "id": "479b6d2d-9355-4a98-abf4-2f55d4aaeb6a",
   "metadata": {
    "scrolled": true
   },
   "outputs": [
    {
     "data": {
      "text/html": [
       "<div>\n",
       "<style scoped>\n",
       "    .dataframe tbody tr th:only-of-type {\n",
       "        vertical-align: middle;\n",
       "    }\n",
       "\n",
       "    .dataframe tbody tr th {\n",
       "        vertical-align: top;\n",
       "    }\n",
       "\n",
       "    .dataframe thead th {\n",
       "        text-align: right;\n",
       "    }\n",
       "</style>\n",
       "<table border=\"1\" class=\"dataframe\">\n",
       "  <thead>\n",
       "    <tr style=\"text-align: right;\">\n",
       "      <th></th>\n",
       "      <th>abstract_id</th>\n",
       "      <th>line_id</th>\n",
       "      <th>abstract_text</th>\n",
       "      <th>line_number</th>\n",
       "      <th>total_lines</th>\n",
       "      <th>target</th>\n",
       "    </tr>\n",
       "  </thead>\n",
       "  <tbody>\n",
       "    <tr>\n",
       "      <th>0</th>\n",
       "      <td>1531328</td>\n",
       "      <td>1531328_0_3</td>\n",
       "      <td>To determine the efficacy of nicotinamide in i...</td>\n",
       "      <td>0</td>\n",
       "      <td>3</td>\n",
       "      <td>OBJECTIVE</td>\n",
       "    </tr>\n",
       "    <tr>\n",
       "      <th>1</th>\n",
       "      <td>23819670</td>\n",
       "      <td>23819670_2_3</td>\n",
       "      <td>Group psychotherapy is an effective , evidence...</td>\n",
       "      <td>2</td>\n",
       "      <td>3</td>\n",
       "      <td>CONCLUSIONS</td>\n",
       "    </tr>\n",
       "    <tr>\n",
       "      <th>2</th>\n",
       "      <td>10169635</td>\n",
       "      <td>10169635_2_3</td>\n",
       "      <td>Excess mortality , measured as mortality ratio...</td>\n",
       "      <td>2</td>\n",
       "      <td>3</td>\n",
       "      <td>CONCLUSIONS</td>\n",
       "    </tr>\n",
       "    <tr>\n",
       "      <th>3</th>\n",
       "      <td>17894671</td>\n",
       "      <td>17894671_2_3</td>\n",
       "      <td>The author challenges psychiatric nurse clinic...</td>\n",
       "      <td>2</td>\n",
       "      <td>3</td>\n",
       "      <td>CONCLUSIONS</td>\n",
       "    </tr>\n",
       "    <tr>\n",
       "      <th>4</th>\n",
       "      <td>18416075</td>\n",
       "      <td>18416075_0_4</td>\n",
       "      <td>To observe therapeutic effects of the comprehe...</td>\n",
       "      <td>0</td>\n",
       "      <td>4</td>\n",
       "      <td>OBJECTIVE</td>\n",
       "    </tr>\n",
       "    <tr>\n",
       "      <th>5</th>\n",
       "      <td>12931378</td>\n",
       "      <td>12931378_0_4</td>\n",
       "      <td>To evaluate the validity and security of Feili...</td>\n",
       "      <td>0</td>\n",
       "      <td>4</td>\n",
       "      <td>OBJECTIVE</td>\n",
       "    </tr>\n",
       "    <tr>\n",
       "      <th>6</th>\n",
       "      <td>12024594</td>\n",
       "      <td>12024594_0_4</td>\n",
       "      <td>To explore the effect of intravascular low lev...</td>\n",
       "      <td>0</td>\n",
       "      <td>4</td>\n",
       "      <td>OBJECTIVE</td>\n",
       "    </tr>\n",
       "    <tr>\n",
       "      <th>7</th>\n",
       "      <td>15023585</td>\n",
       "      <td>15023585_0_4</td>\n",
       "      <td>One of the few combination approaches to the t...</td>\n",
       "      <td>0</td>\n",
       "      <td>4</td>\n",
       "      <td>BACKGROUND</td>\n",
       "    </tr>\n",
       "    <tr>\n",
       "      <th>8</th>\n",
       "      <td>14657456</td>\n",
       "      <td>14657456_0_4</td>\n",
       "      <td>Whether cerebral protection during carotid ang...</td>\n",
       "      <td>0</td>\n",
       "      <td>4</td>\n",
       "      <td>OBJECTIVE</td>\n",
       "    </tr>\n",
       "    <tr>\n",
       "      <th>9</th>\n",
       "      <td>21837955</td>\n",
       "      <td>21837955_0_4</td>\n",
       "      <td>To compare the clinical effects of transurethr...</td>\n",
       "      <td>0</td>\n",
       "      <td>4</td>\n",
       "      <td>OBJECTIVE</td>\n",
       "    </tr>\n",
       "  </tbody>\n",
       "</table>\n",
       "</div>"
      ],
      "text/plain": [
       "   abstract_id       line_id  \\\n",
       "0      1531328   1531328_0_3   \n",
       "1     23819670  23819670_2_3   \n",
       "2     10169635  10169635_2_3   \n",
       "3     17894671  17894671_2_3   \n",
       "4     18416075  18416075_0_4   \n",
       "5     12931378  12931378_0_4   \n",
       "6     12024594  12024594_0_4   \n",
       "7     15023585  15023585_0_4   \n",
       "8     14657456  14657456_0_4   \n",
       "9     21837955  21837955_0_4   \n",
       "\n",
       "                                       abstract_text  line_number  \\\n",
       "0  To determine the efficacy of nicotinamide in i...            0   \n",
       "1  Group psychotherapy is an effective , evidence...            2   \n",
       "2  Excess mortality , measured as mortality ratio...            2   \n",
       "3  The author challenges psychiatric nurse clinic...            2   \n",
       "4  To observe therapeutic effects of the comprehe...            0   \n",
       "5  To evaluate the validity and security of Feili...            0   \n",
       "6  To explore the effect of intravascular low lev...            0   \n",
       "7  One of the few combination approaches to the t...            0   \n",
       "8  Whether cerebral protection during carotid ang...            0   \n",
       "9  To compare the clinical effects of transurethr...            0   \n",
       "\n",
       "   total_lines       target  \n",
       "0            3    OBJECTIVE  \n",
       "1            3  CONCLUSIONS  \n",
       "2            3  CONCLUSIONS  \n",
       "3            3  CONCLUSIONS  \n",
       "4            4    OBJECTIVE  \n",
       "5            4    OBJECTIVE  \n",
       "6            4    OBJECTIVE  \n",
       "7            4   BACKGROUND  \n",
       "8            4    OBJECTIVE  \n",
       "9            4    OBJECTIVE  "
      ]
     },
     "execution_count": 9,
     "metadata": {},
     "output_type": "execute_result"
    }
   ],
   "source": [
    "df"
   ]
  },
  {
   "cell_type": "code",
   "execution_count": 20,
   "id": "46c93f61-a935-424d-a5e1-31001a27d937",
   "metadata": {},
   "outputs": [],
   "source": [
    "def load_data_bq(df: pd.DataFrame\n",
    "                 , replace: bool):\n",
    "    full_table_name = f\"{GCP_PROJECT_SEBT84}.{BQ_DATASET}.concat_{TABLE}\"\n",
    "\n",
    "    client = bigquery.Client()\n",
    "\n",
    "    write_mode = \"WRITE_TRUNCATE\" if replace else \"WRITE_APPEND\"\n",
    "    job_config = bigquery.LoadJobConfig(write_disposition=write_mode)\n",
    "\n",
    "    job = client.load_table_from_dataframe(df, full_table_name, job_config=job_config)\n",
    "    result = job.result()\n",
    "\n",
    "    print(f\"✅ Data saved to bigquery, with shape {df.shape}\")"
   ]
  },
  {
   "cell_type": "code",
   "execution_count": null,
   "id": "abad68d4-0cce-4c34-aaea-d3c32c145425",
   "metadata": {},
   "outputs": [],
   "source": [
    "def preprocess_data(path_to_csv, frac):\n",
    "    \"\"\"provide the path to csv and the frac of data you want to use and it will\n",
    "    return the preprocessed dataset in pd.DataFrame format\"\"\"\n",
    "\n",
    "    assert isinstance(path_to_csv, str), \"path_to_csv should be a string\"\n",
    "    df = pd.read_csv(path_to_csv)\n",
    "    df = df.sort_values(by=['abstract_id', 'line_number'])\n",
    "    df['abstract_text'] = df['abstract_text'].astype(str)\n",
    "    concatenated_abstract = df.groupby('abstract_id')['abstract_text'].apply(' '.join).reset_index()\n",
    "    df = df.merge(concatenated_abstract, on='abstract_id', how='left')\n",
    "    data = df[['abstract_id', 'abstract_text_y']].drop_duplicates().rename(columns={'abstract_text_y': 'abstract_text'})\n",
    "    data = data.sample(frac=frac).reset_index(drop=True)\n",
    "\n",
    "    return data"
   ]
  },
  {
   "cell_type": "code",
   "execution_count": 11,
   "id": "2e3c6602-4487-478c-ab5c-e217409f8d42",
   "metadata": {},
   "outputs": [],
   "source": [
    "def preprocess_data(df, frac=0.2):\n",
    "    \"\"\"provide the path to csv and the frac of data you want to use and it will\n",
    "    return the preprocessed dataset in pd.DataFrame format\"\"\"\n",
    "\n",
    "    assert isinstance(df, pd.DataFrame), \"path_to_csv should be a string\"\n",
    "    \n",
    "    df = df.sort_values(by=['abstract_id', 'line_number'])\n",
    "    df['abstract_text'] = df['abstract_text'].astype(str)\n",
    "    concatenated_abstract = df.groupby('abstract_id')['abstract_text'].apply(' '.join).reset_index()\n",
    "    df = df.merge(concatenated_abstract, on='abstract_id', how='left')\n",
    "    data = df[['abstract_id', 'abstract_text_y']].drop_duplicates().rename(columns={'abstract_text_y': 'abstract_text'})\n",
    "    #data = data.sample(frac=frac).reset_index(drop=True)\n",
    "\n",
    "    return data"
   ]
  },
  {
   "cell_type": "code",
   "execution_count": 13,
   "id": "b89772dd-de10-491a-b5d5-fce6b96769d2",
   "metadata": {},
   "outputs": [],
   "source": [
    "df_2 = preprocess_data(df)"
   ]
  },
  {
   "cell_type": "code",
   "execution_count": 21,
   "id": "3a84e2ae-8245-4dbd-a676-ec7ab1fc2281",
   "metadata": {},
   "outputs": [
    {
     "name": "stdout",
     "output_type": "stream",
     "text": [
      "✅ Data saved to bigquery, with shape (10, 2)\n"
     ]
    }
   ],
   "source": [
    "load_data_bq(df_2,replace=True)"
   ]
  },
  {
   "cell_type": "code",
   "execution_count": 57,
   "id": "d84f58fd-72d8-4eb1-85da-776f1245a05e",
   "metadata": {},
   "outputs": [],
   "source": [
    "def get_data_from_bq(table):\n",
    "    full_table_name = f\"{GCP_PROJECT_SEBT84}.{BQ_DATASET}.concat_{TABLE}\"\n",
    "\n",
    "    client = bigquery.Client(project=GCP_PROJECT_SEBT84)\n",
    "    query = f\"\"\"\n",
    "        SELECT\n",
    "          count(*)\n",
    "        FROM {full_table_name}\n",
    "        \"\"\"\n",
    "    query_job = client.query(query)\n",
    "    \n",
    "    results = query_job.result()  # Waits for job to complete.\n",
    "    df = results.to_dataframe()\n",
    "    count = int(df.values)\n",
    "    return count"
   ]
  },
  {
   "cell_type": "code",
   "execution_count": 69,
   "id": "6c75a2a1-6213-48dc-8966-8cf150bc94e1",
   "metadata": {},
   "outputs": [
    {
     "data": {
      "text/html": [
       "<div>\n",
       "<style scoped>\n",
       "    .dataframe tbody tr th:only-of-type {\n",
       "        vertical-align: middle;\n",
       "    }\n",
       "\n",
       "    .dataframe tbody tr th {\n",
       "        vertical-align: top;\n",
       "    }\n",
       "\n",
       "    .dataframe thead th {\n",
       "        text-align: right;\n",
       "    }\n",
       "</style>\n",
       "<table border=\"1\" class=\"dataframe\">\n",
       "  <thead>\n",
       "    <tr style=\"text-align: right;\">\n",
       "      <th></th>\n",
       "      <th>abstract_id</th>\n",
       "      <th>abstract_text</th>\n",
       "    </tr>\n",
       "  </thead>\n",
       "  <tbody>\n",
       "    <tr>\n",
       "      <th>0</th>\n",
       "      <td>1531328</td>\n",
       "      <td>To determine the efficacy of nicotinamide in i...</td>\n",
       "    </tr>\n",
       "    <tr>\n",
       "      <th>1</th>\n",
       "      <td>10169635</td>\n",
       "      <td>Excess mortality , measured as mortality ratio...</td>\n",
       "    </tr>\n",
       "    <tr>\n",
       "      <th>2</th>\n",
       "      <td>12024594</td>\n",
       "      <td>To explore the effect of intravascular low lev...</td>\n",
       "    </tr>\n",
       "    <tr>\n",
       "      <th>3</th>\n",
       "      <td>12931378</td>\n",
       "      <td>To evaluate the validity and security of Feili...</td>\n",
       "    </tr>\n",
       "    <tr>\n",
       "      <th>4</th>\n",
       "      <td>14657456</td>\n",
       "      <td>Whether cerebral protection during carotid ang...</td>\n",
       "    </tr>\n",
       "  </tbody>\n",
       "</table>\n",
       "</div>"
      ],
      "text/plain": [
       "   abstract_id                                      abstract_text\n",
       "0      1531328  To determine the efficacy of nicotinamide in i...\n",
       "1     10169635  Excess mortality , measured as mortality ratio...\n",
       "2     12024594  To explore the effect of intravascular low lev...\n",
       "3     12931378  To evaluate the validity and security of Feili...\n",
       "4     14657456  Whether cerebral protection during carotid ang..."
      ]
     },
     "execution_count": 69,
     "metadata": {},
     "output_type": "execute_result"
    }
   ],
   "source": [
    "full_table_name = f\"{GCP_PROJECT_SEBT84}.{BQ_DATASET}.concat_{TABLE}\"\n",
    "frac = 5\n",
    "client = bigquery.Client(project=GCP_PROJECT_SEBT84)\n",
    "query = f\"\"\"\n",
    "        SELECT\n",
    "          *\n",
    "        FROM {full_table_name}\n",
    "        limit {frac}\n",
    "        \"\"\"\n",
    "query_job = client.query(query)\n",
    "    \n",
    "results = query_job.result()  # Waits for job to complete.\n",
    "df = results.to_dataframe()\n",
    "df"
   ]
  },
  {
   "cell_type": "code",
   "execution_count": 59,
   "id": "08b56b72-db23-4f0b-856f-aee567bf8113",
   "metadata": {},
   "outputs": [],
   "source": [
    "size = get_data_from_bq(TABLE)"
   ]
  },
  {
   "cell_type": "code",
   "execution_count": 62,
   "id": "01ef74e4-2056-4a52-a9ce-9db5f4066ff4",
   "metadata": {},
   "outputs": [
    {
     "data": {
      "text/plain": [
       "3"
      ]
     },
     "execution_count": 62,
     "metadata": {},
     "output_type": "execute_result"
    }
   ],
   "source": [
    "round(size * 0.333)"
   ]
  }
 ],
 "metadata": {
  "kernelspec": {
   "display_name": "Python 3 (ipykernel)",
   "language": "python",
   "name": "python3"
  },
  "language_info": {
   "codemirror_mode": {
    "name": "ipython",
    "version": 3
   },
   "file_extension": ".py",
   "mimetype": "text/x-python",
   "name": "python",
   "nbconvert_exporter": "python",
   "pygments_lexer": "ipython3",
   "version": "3.10.6"
  }
 },
 "nbformat": 4,
 "nbformat_minor": 5
}
