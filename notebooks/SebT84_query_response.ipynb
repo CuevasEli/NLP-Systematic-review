{
 "cells": [
  {
   "cell_type": "markdown",
   "id": "2b341fcd-fe35-4eaf-9676-75f1ef1813f1",
   "metadata": {},
   "source": [
    "# Notebook Setup"
   ]
  },
  {
   "cell_type": "code",
   "execution_count": 1,
   "id": "5dc8dd16-ea70-41ec-bb09-ff952b5a979e",
   "metadata": {},
   "outputs": [],
   "source": [
    "import pandas as pd\n",
    "import numpy as np\n",
    "\n",
    "#import matplotlib.pyplot as plt\n",
    "#import seaborn as sns\n",
    "#from rake_nltk import Rake\n",
    "\n",
    "#from tensorflow.keras.preprocessing.text import Tokenizer\n",
    "#from tensorflow.keras.preprocessing.sequence import pad_sequences\n",
    "#from tensorflow.keras.preprocessing.text import text_to_word_sequence"
   ]
  },
  {
   "cell_type": "code",
   "execution_count": 2,
   "id": "a87d533f-dae4-4743-ac4d-b350cb5294e5",
   "metadata": {},
   "outputs": [
    {
     "name": "stderr",
     "output_type": "stream",
     "text": [
      "/home/sebastien/.pyenv/versions/3.10.6/envs/NLP-Systematic-review/lib/python3.10/site-packages/umap/distances.py:1063: NumbaDeprecationWarning: The 'nopython' keyword argument was not supplied to the 'numba.jit' decorator. The implicit default value for this argument is currently False, but it will be changed to True in Numba 0.59.0. See https://numba.readthedocs.io/en/stable/reference/deprecation.html#deprecation-of-object-mode-fall-back-behaviour-when-using-jit for details.\n",
      "  @numba.jit()\n",
      "/home/sebastien/.pyenv/versions/3.10.6/envs/NLP-Systematic-review/lib/python3.10/site-packages/umap/distances.py:1071: NumbaDeprecationWarning: The 'nopython' keyword argument was not supplied to the 'numba.jit' decorator. The implicit default value for this argument is currently False, but it will be changed to True in Numba 0.59.0. See https://numba.readthedocs.io/en/stable/reference/deprecation.html#deprecation-of-object-mode-fall-back-behaviour-when-using-jit for details.\n",
      "  @numba.jit()\n",
      "/home/sebastien/.pyenv/versions/3.10.6/envs/NLP-Systematic-review/lib/python3.10/site-packages/umap/distances.py:1086: NumbaDeprecationWarning: The 'nopython' keyword argument was not supplied to the 'numba.jit' decorator. The implicit default value for this argument is currently False, but it will be changed to True in Numba 0.59.0. See https://numba.readthedocs.io/en/stable/reference/deprecation.html#deprecation-of-object-mode-fall-back-behaviour-when-using-jit for details.\n",
      "  @numba.jit()\n",
      "/home/sebastien/.pyenv/versions/3.10.6/envs/NLP-Systematic-review/lib/python3.10/site-packages/umap/umap_.py:660: NumbaDeprecationWarning: The 'nopython' keyword argument was not supplied to the 'numba.jit' decorator. The implicit default value for this argument is currently False, but it will be changed to True in Numba 0.59.0. See https://numba.readthedocs.io/en/stable/reference/deprecation.html#deprecation-of-object-mode-fall-back-behaviour-when-using-jit for details.\n",
      "  @numba.jit()\n"
     ]
    }
   ],
   "source": [
    "from bertopic import BERTopic\n",
    "from bertopic.representation import KeyBERTInspired"
   ]
  },
  {
   "cell_type": "code",
   "execution_count": null,
   "id": "2d4ead24-8b1f-4bdf-bb64-9e051c066a06",
   "metadata": {
    "scrolled": true
   },
   "outputs": [],
   "source": [
    "#!pip freeze|grep tensorflow\n",
    "#!pip uninstall numpy\n",
    "!pip install ipywidgets"
   ]
  },
  {
   "cell_type": "code",
   "execution_count": null,
   "id": "1adb48e8-0ffe-4fc5-85cb-5f482d8cd18f",
   "metadata": {},
   "outputs": [],
   "source": [
    "#!pip uninstall plotly\n",
    "!pip install plotly==4.13.0\n"
   ]
  },
  {
   "cell_type": "markdown",
   "id": "e450bbd8-9cf0-4757-a0df-28b462e93887",
   "metadata": {},
   "source": [
    "# Import Data"
   ]
  },
  {
   "cell_type": "code",
   "execution_count": 4,
   "id": "be0c9f85-198f-4c88-8c76-568d494b8e84",
   "metadata": {},
   "outputs": [],
   "source": [
    "df = pd.read_csv('/home/sebastien/code/CuevasEli/NLP-Systematic-review/raw_data/data.csv')\n"
   ]
  },
  {
   "cell_type": "code",
   "execution_count": 14,
   "id": "8d8aed89-096a-4bab-a2bc-a515ac7a7867",
   "metadata": {},
   "outputs": [
    {
     "data": {
      "text/plain": [
       "(190654, 2)"
      ]
     },
     "execution_count": 14,
     "metadata": {},
     "output_type": "execute_result"
    }
   ],
   "source": [
    "df.shape"
   ]
  },
  {
   "cell_type": "code",
   "execution_count": null,
   "id": "c256c352-839c-47b0-b3bc-8b85b30f30e7",
   "metadata": {},
   "outputs": [],
   "source": [
    "df.head()"
   ]
  },
  {
   "cell_type": "code",
   "execution_count": null,
   "id": "860e73b2-c370-4940-9a49-cccb841de82a",
   "metadata": {
    "scrolled": true
   },
   "outputs": [],
   "source": [
    "df.info()"
   ]
  },
  {
   "cell_type": "code",
   "execution_count": null,
   "id": "bf0813ad-0d80-4222-a0fe-efe328f83f3a",
   "metadata": {},
   "outputs": [],
   "source": [
    "df['text_len'] = df['abstract_text'].apply(lambda x: len(x))"
   ]
  },
  {
   "cell_type": "code",
   "execution_count": null,
   "id": "6302c43f-2cc3-452c-8e8b-5c5396901c11",
   "metadata": {},
   "outputs": [],
   "source": [
    "sns.histplot(df['text_len'])"
   ]
  },
  {
   "cell_type": "markdown",
   "id": "ac04a81a-4a41-42ec-b2f4-8d77ae65050b",
   "metadata": {},
   "source": [
    "# BERTopic Model"
   ]
  },
  {
   "cell_type": "markdown",
   "id": "2cdd3f3d-da5d-4bc0-8905-3ebdca8c5f79",
   "metadata": {},
   "source": [
    "## setup model"
   ]
  },
  {
   "cell_type": "code",
   "execution_count": 5,
   "id": "a7c03cb0-9783-4696-9a7e-a0a94dc3be73",
   "metadata": {},
   "outputs": [],
   "source": [
    "representation_model = KeyBERTInspired()\n",
    "topic_model = BERTopic()#(representation_model=representation_model)"
   ]
  },
  {
   "cell_type": "code",
   "execution_count": 6,
   "id": "fbac4b04-cc01-441f-8b18-1ea2fffc1c4c",
   "metadata": {
    "scrolled": true
   },
   "outputs": [
    {
     "data": {
      "text/plain": [
       "0      We conducted this study to assess the clinical...\n",
       "1      To determine whether prophylactic treatment wi...\n",
       "2      After the discovery of type C hepatitis virus ...\n",
       "3      Since it is not clear whether testosterone or ...\n",
       "4      The aim was to study the pharmacokinetic param...\n",
       "                             ...                        \n",
       "195    To investigate the sensitivity , specificity a...\n",
       "196    To study the influence of the position of the ...\n",
       "197    To compare the clinical efficacy , patient sat...\n",
       "198    To assess whether intervention by a health vis...\n",
       "199    To evaluate the effect of short term treatment...\n",
       "Name: abstract_text, Length: 200, dtype: object"
      ]
     },
     "execution_count": 6,
     "metadata": {},
     "output_type": "execute_result"
    }
   ],
   "source": [
    "size = 200\n",
    "\n",
    "df_small = df.iloc[0:size]\n",
    "\n",
    "df_train = df_small['abstract_text']\n",
    "df_train"
   ]
  },
  {
   "cell_type": "code",
   "execution_count": 7,
   "id": "7526365c-cc46-4f4d-aa2f-ac022e9c016e",
   "metadata": {},
   "outputs": [
    {
     "name": "stdout",
     "output_type": "stream",
     "text": [
      "CPU times: user 1min 5s, sys: 20.5 s, total: 1min 26s\n",
      "Wall time: 31 s\n"
     ]
    }
   ],
   "source": [
    "%%time\n",
    "\n",
    "topics, probs = topic_model.fit_transform(df_train)"
   ]
  },
  {
   "cell_type": "markdown",
   "id": "2aa45830-6aa3-4fae-b6ab-5740dc986803",
   "metadata": {},
   "source": [
    "## Explore model"
   ]
  },
  {
   "cell_type": "code",
   "execution_count": 9,
   "id": "a98ba1bf-1659-4c49-948a-ab5c6a85a222",
   "metadata": {
    "scrolled": true
   },
   "outputs": [
    {
     "data": {
      "text/html": [
       "<div>\n",
       "<style scoped>\n",
       "    .dataframe tbody tr th:only-of-type {\n",
       "        vertical-align: middle;\n",
       "    }\n",
       "\n",
       "    .dataframe tbody tr th {\n",
       "        vertical-align: top;\n",
       "    }\n",
       "\n",
       "    .dataframe thead th {\n",
       "        text-align: right;\n",
       "    }\n",
       "</style>\n",
       "<table border=\"1\" class=\"dataframe\">\n",
       "  <thead>\n",
       "    <tr style=\"text-align: right;\">\n",
       "      <th></th>\n",
       "      <th>Topic</th>\n",
       "      <th>Count</th>\n",
       "      <th>Name</th>\n",
       "      <th>Representation</th>\n",
       "      <th>Representative_Docs</th>\n",
       "    </tr>\n",
       "  </thead>\n",
       "  <tbody>\n",
       "    <tr>\n",
       "      <th>0</th>\n",
       "      <td>-1</td>\n",
       "      <td>25</td>\n",
       "      <td>-1_the_of_to_and</td>\n",
       "      <td>[the, of, to, and, in, with, was, after, were,...</td>\n",
       "      <td>[In adults with asthma , the selective beta 2-...</td>\n",
       "    </tr>\n",
       "    <tr>\n",
       "      <th>1</th>\n",
       "      <td>0</td>\n",
       "      <td>68</td>\n",
       "      <td>0_the_in_and_of</td>\n",
       "      <td>[the, in, and, of, to, with, was, patients, bl...</td>\n",
       "      <td>[First , to compare dietary and antihypertensi...</td>\n",
       "    </tr>\n",
       "    <tr>\n",
       "      <th>2</th>\n",
       "      <td>1</td>\n",
       "      <td>42</td>\n",
       "      <td>1_of_the_and_in</td>\n",
       "      <td>[of, the, and, in, patients, with, to, were, f...</td>\n",
       "      <td>[To compare the safety and efficacy of azithro...</td>\n",
       "    </tr>\n",
       "    <tr>\n",
       "      <th>3</th>\n",
       "      <td>2</td>\n",
       "      <td>33</td>\n",
       "      <td>2_of_the_and_to</td>\n",
       "      <td>[of, the, and, to, in, patients, was, with, we...</td>\n",
       "      <td>[To compare emergence from anesthesia and the ...</td>\n",
       "    </tr>\n",
       "    <tr>\n",
       "      <th>4</th>\n",
       "      <td>3</td>\n",
       "      <td>20</td>\n",
       "      <td>3_the_of_and_patients</td>\n",
       "      <td>[the, of, and, patients, in, survival, for, wi...</td>\n",
       "      <td>[With the aim of decreasing undesirable side e...</td>\n",
       "    </tr>\n",
       "    <tr>\n",
       "      <th>5</th>\n",
       "      <td>4</td>\n",
       "      <td>12</td>\n",
       "      <td>4_of_the_in_and</td>\n",
       "      <td>[of, the, in, and, were, group, treatment, ser...</td>\n",
       "      <td>[To investigate the significance of treatment ...</td>\n",
       "    </tr>\n",
       "  </tbody>\n",
       "</table>\n",
       "</div>"
      ],
      "text/plain": [
       "   Topic  Count                   Name  \\\n",
       "0     -1     25       -1_the_of_to_and   \n",
       "1      0     68        0_the_in_and_of   \n",
       "2      1     42        1_of_the_and_in   \n",
       "3      2     33        2_of_the_and_to   \n",
       "4      3     20  3_the_of_and_patients   \n",
       "5      4     12        4_of_the_in_and   \n",
       "\n",
       "                                      Representation  \\\n",
       "0  [the, of, to, and, in, with, was, after, were,...   \n",
       "1  [the, in, and, of, to, with, was, patients, bl...   \n",
       "2  [of, the, and, in, patients, with, to, were, f...   \n",
       "3  [of, the, and, to, in, patients, was, with, we...   \n",
       "4  [the, of, and, patients, in, survival, for, wi...   \n",
       "5  [of, the, in, and, were, group, treatment, ser...   \n",
       "\n",
       "                                 Representative_Docs  \n",
       "0  [In adults with asthma , the selective beta 2-...  \n",
       "1  [First , to compare dietary and antihypertensi...  \n",
       "2  [To compare the safety and efficacy of azithro...  \n",
       "3  [To compare emergence from anesthesia and the ...  \n",
       "4  [With the aim of decreasing undesirable side e...  \n",
       "5  [To investigate the significance of treatment ...  "
      ]
     },
     "execution_count": 9,
     "metadata": {},
     "output_type": "execute_result"
    }
   ],
   "source": [
    "topic_info = topic_model.get_topic_info()\n",
    "topic_info"
   ]
  },
  {
   "cell_type": "code",
   "execution_count": null,
   "id": "85fc4a76-c4bb-4af0-9d01-dc83155e3ea9",
   "metadata": {},
   "outputs": [],
   "source": [
    "topic_model.get_topic(1)"
   ]
  },
  {
   "cell_type": "code",
   "execution_count": null,
   "id": "cf8a95a3-1212-4270-a59a-c4b1c5831d7a",
   "metadata": {
    "scrolled": true
   },
   "outputs": [],
   "source": [
    "topic_model.get_topic_freq()\n"
   ]
  },
  {
   "cell_type": "code",
   "execution_count": null,
   "id": "a331175b-f9f3-4566-832e-0227c0f84cdb",
   "metadata": {
    "scrolled": true
   },
   "outputs": [],
   "source": [
    "topic_model.generate_topic_labels()"
   ]
  },
  {
   "cell_type": "code",
   "execution_count": null,
   "id": "0fe36356-e2eb-4262-aacb-c4e4dbfcc1aa",
   "metadata": {},
   "outputs": [],
   "source": [
    "topic_model.find_topics(\"aricle about lung cancer patient care\")"
   ]
  },
  {
   "cell_type": "code",
   "execution_count": null,
   "id": "7a791d8a-ffb7-454a-8f21-9b614ae1cd5a",
   "metadata": {
    "scrolled": true
   },
   "outputs": [],
   "source": [
    "topic_model.hierarchical_topics(df_small['abstract_text'])"
   ]
  },
  {
   "cell_type": "code",
   "execution_count": null,
   "id": "f462df33-fb57-4878-b803-7cab6f142579",
   "metadata": {
    "scrolled": true
   },
   "outputs": [],
   "source": [
    "#from scipy.cluster import hierarchy as sch\n",
    "\n",
    "linkage_function = lambda x: sch.linkage(x, 'single', optimal_ordering=True)\n",
    "hierarchical_topics = topic_model.hierarchical_topics(df_train, linkage_function=linkage_function)\n",
    "#%matplotlib inline\n",
    "topic_model.visualize_hierarchy(hierarchical_topics=hierarchical_topics)\n",
    "#plt.show();"
   ]
  },
  {
   "cell_type": "code",
   "execution_count": null,
   "id": "d6b98e97-4e75-46e9-9dea-4e87adf2d0a8",
   "metadata": {
    "scrolled": true
   },
   "outputs": [],
   "source": [
    "#tree = topic_model.get_topic_tree(hierarchical_topics)\n",
    "#print(tree)\n",
    "#topic_model.visualize_hierarchy()"
   ]
  },
  {
   "cell_type": "code",
   "execution_count": null,
   "id": "c4942779-8dd0-40fa-95b4-df96e6f5fcf9",
   "metadata": {},
   "outputs": [],
   "source": [
    "topic_model.get_document_info(df_train)"
   ]
  },
  {
   "cell_type": "markdown",
   "id": "7a9750c0-51e2-4f2a-9569-b1f026aacc8d",
   "metadata": {},
   "source": [
    "## tag new articles"
   ]
  },
  {
   "cell_type": "code",
   "execution_count": null,
   "id": "a6d2ee9f-07c9-45dc-bc8b-bf60f9fa51ba",
   "metadata": {},
   "outputs": [],
   "source": [
    "tag_size = 500\n",
    "\n",
    "df_new = df['abstract_text'].iloc[size:size+tag_size]\n",
    "\n",
    "topic_model.transform(df['abstract_text'].iloc[size+1])"
   ]
  },
  {
   "cell_type": "markdown",
   "id": "cfc4ce64-e2a2-43a9-889e-4ea6e9d359da",
   "metadata": {},
   "source": [
    "## Extract topic from query"
   ]
  },
  {
   "cell_type": "code",
   "execution_count": null,
   "id": "ec6a9508-363f-4996-9bfc-b1164591d3dc",
   "metadata": {
    "scrolled": true
   },
   "outputs": [],
   "source": [
    "#df_with_topics = pd.concat([df_small,pd.DataFrame({'topic_id':topics,'probability':probs})],axis=1)\n",
    "df_with_topics = pd.concat([df_small['abstract_id'],topic_model.get_document_info(df_train)],axis=1)\n",
    "df_with_topics"
   ]
  },
  {
   "cell_type": "code",
   "execution_count": null,
   "id": "2e3b79bc-54b6-42e4-a858-a30cef9eaa86",
   "metadata": {},
   "outputs": [],
   "source": [
    "def url_destination(id):\n",
    "    #ULR example: 'https://pubmed.ncbi.nlm.nih.gov/16364933/'\n",
    "    url_template = 'https://pubmed.ncbi.nlm.nih.gov/'\n",
    "    return f\"{url_template}{id}\"\n",
    "    \n",
    "def find_article(query,model):\n",
    "    # Find topics from query\n",
    "    f_topics, f_prob = model.find_topics(query)\n",
    "    topic_info = model.get_topic_info()\n",
    "\n",
    "    # extarct the optiosn from the DB\n",
    "    for t in range(len(f_topics)):\n",
    "        topic_id = f_topics[t]\n",
    "        topic_prob = round(f_prob[t]*100,2)\n",
    "        topic_name = topic_info['Name'][topic_info['Topic'] == topic_id].values[0]\n",
    "        article_count = df_with_topics['abstract_id'][df_with_topics['Topic'] == t].count()\n",
    "        print(f\"Recommended Topics: {topic_name} with a probability of {topic_prob}% & we've found {article_count} articles\\n\")\n",
    "\n",
    "    # Ask user for topic selection\n",
    "    selected_id = input('select a topic ID to show the articles:')\n",
    "\n",
    "    # Generate the article destination URL + display the options\n",
    "    article_list = df_with_topics[df_with_topics['Topic'] == int(selected_id)]#.count()\n",
    "    article_list['article_link'] = article_list['abstract_id'].apply(url_destination)\n",
    "    display(article_list[['Document','article_link']])"
   ]
  },
  {
   "cell_type": "code",
   "execution_count": null,
   "id": "e313f2a8-bcdd-40bf-95f9-deec27ff4925",
   "metadata": {},
   "outputs": [],
   "source": [
    "query = 'article reviewing stomach cancer care treatments with clinical data'\n",
    "\n",
    "find_article(query,topic_model)"
   ]
  },
  {
   "cell_type": "code",
   "execution_count": null,
   "id": "4c3da2e3-5591-4477-880b-5b0e1e4c381a",
   "metadata": {},
   "outputs": [],
   "source": [
    "#%matplotlib inline\n",
    "\n",
    "#topic_model.visualize_topics()\n",
    "#fig.show().show()\n",
    "tree = topic_model.get_topic_tree(topic_model.hierarchical_topics(df_train))\n",
    "print(tree)"
   ]
  },
  {
   "cell_type": "code",
   "execution_count": null,
   "id": "f5dced76-782c-4323-9c9f-5b9a90997a19",
   "metadata": {},
   "outputs": [],
   "source": [
    "import plotly.io as pio\n",
    "pio.renderers.default='notebook'"
   ]
  },
  {
   "cell_type": "code",
   "execution_count": 13,
   "id": "b545895a-5b7e-49df-9e42-e323484150dc",
   "metadata": {},
   "outputs": [],
   "source": [
    "#topic_model.visualize_barchart()\n",
    "\n",
    "fig = topic_model.visualize_topics()\n",
    "fig.write_html('/home/sebastien/code/CuevasEli/NLP-Systematic-review/fig/file.html')"
   ]
  }
 ],
 "metadata": {
  "kernelspec": {
   "display_name": "Python 3 (ipykernel)",
   "language": "python",
   "name": "python3"
  },
  "language_info": {
   "codemirror_mode": {
    "name": "ipython",
    "version": 3
   },
   "file_extension": ".py",
   "mimetype": "text/x-python",
   "name": "python",
   "nbconvert_exporter": "python",
   "pygments_lexer": "ipython3",
   "version": "3.10.6"
  }
 },
 "nbformat": 4,
 "nbformat_minor": 5
}
