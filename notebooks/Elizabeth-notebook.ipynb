{
 "cells": [
  {
   "cell_type": "code",
   "execution_count": 42,
   "id": "cdec91cf-673e-4e9b-9fd3-24b9d3e2acc7",
   "metadata": {},
   "outputs": [],
   "source": [
    "import pandas as pd"
   ]
  },
  {
   "cell_type": "code",
   "execution_count": 43,
   "id": "3675f317-75ad-4667-ae00-86d8b1f78322",
   "metadata": {},
   "outputs": [],
   "source": [
    "df = pd.read_csv(\"raw_data/PubMed.csv\")\n",
    "\n"
   ]
  },
  {
   "cell_type": "code",
   "execution_count": 44,
   "id": "e0a3a20f-1b0f-41dc-874a-d68faad87c5c",
   "metadata": {},
   "outputs": [],
   "source": [
    "unique_ids = df['abstract_id'].unique()\n",
    "\n",
    "concatenated_ids = ', '.join(map(str, unique_ids))\n"
   ]
  },
  {
   "cell_type": "code",
   "execution_count": 45,
   "id": "757ea349-4758-4a44-a62f-583cee4c41a8",
   "metadata": {},
   "outputs": [
    {
     "name": "stdout",
     "output_type": "stream",
     "text": [
      "Number of unique IDs: 190654\n"
     ]
    }
   ],
   "source": [
    "num_unique_ids = len(unique_ids)\n",
    "\n",
    "print(\"Number of unique IDs:\", num_unique_ids)"
   ]
  },
  {
   "cell_type": "code",
   "execution_count": 46,
   "id": "d1bc9031-24bb-4ed0-927f-b81ac2532cec",
   "metadata": {},
   "outputs": [],
   "source": [
    "df = df.sort_values(by=['abstract_id', 'line_number'])\n",
    "\n"
   ]
  },
  {
   "cell_type": "code",
   "execution_count": 47,
   "id": "a3b0cb1e-28e5-4f95-aaac-f3a46bc8ef67",
   "metadata": {},
   "outputs": [],
   "source": [
    "\n",
    "df['abstract_text'] = df['abstract_text'].astype(str)\n",
    "\n",
    "concatenated_abstract = df.groupby('abstract_id')['abstract_text'].apply(' '.join).reset_index()\n"
   ]
  },
  {
   "cell_type": "code",
   "execution_count": 48,
   "id": "c7424a6f-8595-4dda-ba3a-d8eb69686ea8",
   "metadata": {},
   "outputs": [],
   "source": [
    "concatenated_target = df.groupby('abstract_id')['target'].apply(' '.join).reset_index()\n"
   ]
  },
  {
   "cell_type": "code",
   "execution_count": 49,
   "id": "14ff3e8f-04a0-43c1-aae6-9229631fa312",
   "metadata": {},
   "outputs": [],
   "source": [
    "concatenated_df = pd.merge(concatenated_abstract, concatenated_target, on='abstract_id')\n"
   ]
  },
  {
   "cell_type": "code",
   "execution_count": 50,
   "id": "b01856c4-2e01-48a7-bbda-c587a7139898",
   "metadata": {},
   "outputs": [],
   "source": [
    "concatenated_df.to_csv('concatenated_abstracts.csv', index=False)"
   ]
  },
  {
   "cell_type": "code",
   "execution_count": 25,
   "id": "5629b0e4-1d8a-4ce5-b106-21c1ab7ef97b",
   "metadata": {},
   "outputs": [
    {
     "name": "stdout",
     "output_type": "stream",
     "text": [
      "abstract_id\n",
      "1279170     0\n",
      "1281030     0\n",
      "1282364     0\n",
      "1283117     0\n",
      "1283730     0\n",
      "           ..\n",
      "26521577    0\n",
      "26521581    0\n",
      "26521582    0\n",
      "26521589    0\n",
      "26529159    0\n",
      "Name: abstract_text, Length: 190654, dtype: int64\n"
     ]
    }
   ],
   "source": []
  },
  {
   "cell_type": "code",
   "execution_count": 51,
   "id": "26e619ff-9b12-4e81-ab74-7a8649998388",
   "metadata": {},
   "outputs": [
    {
     "data": {
      "text/html": [
       "<div>\n",
       "<style scoped>\n",
       "    .dataframe tbody tr th:only-of-type {\n",
       "        vertical-align: middle;\n",
       "    }\n",
       "\n",
       "    .dataframe tbody tr th {\n",
       "        vertical-align: top;\n",
       "    }\n",
       "\n",
       "    .dataframe thead th {\n",
       "        text-align: right;\n",
       "    }\n",
       "</style>\n",
       "<table border=\"1\" class=\"dataframe\">\n",
       "  <thead>\n",
       "    <tr style=\"text-align: right;\">\n",
       "      <th></th>\n",
       "      <th>abstract_id</th>\n",
       "      <th>line_id</th>\n",
       "      <th>abstract_text</th>\n",
       "      <th>line_number</th>\n",
       "      <th>total_lines</th>\n",
       "      <th>target</th>\n",
       "      <th>abstract_text_concatenated</th>\n",
       "    </tr>\n",
       "  </thead>\n",
       "  <tbody>\n",
       "    <tr>\n",
       "      <th>0</th>\n",
       "      <td>1279170</td>\n",
       "      <td>1279170_0_12</td>\n",
       "      <td>We conducted this study to assess the clinical...</td>\n",
       "      <td>0</td>\n",
       "      <td>12</td>\n",
       "      <td>OBJECTIVE</td>\n",
       "      <td>We conducted this study to assess the clinical...</td>\n",
       "    </tr>\n",
       "    <tr>\n",
       "      <th>1</th>\n",
       "      <td>1279170</td>\n",
       "      <td>1279170_1_12</td>\n",
       "      <td>Thirty-five patients with Raynaud 's phenomeno...</td>\n",
       "      <td>1</td>\n",
       "      <td>12</td>\n",
       "      <td>METHODS</td>\n",
       "      <td>We conducted this study to assess the clinical...</td>\n",
       "    </tr>\n",
       "    <tr>\n",
       "      <th>2</th>\n",
       "      <td>1279170</td>\n",
       "      <td>1279170_2_12</td>\n",
       "      <td>Following a 2 week washout , subjects received...</td>\n",
       "      <td>2</td>\n",
       "      <td>12</td>\n",
       "      <td>METHODS</td>\n",
       "      <td>We conducted this study to assess the clinical...</td>\n",
       "    </tr>\n",
       "    <tr>\n",
       "      <th>3</th>\n",
       "      <td>1279170</td>\n",
       "      <td>1279170_3_12</td>\n",
       "      <td>Clinical assessments , status of digital ulcer...</td>\n",
       "      <td>3</td>\n",
       "      <td>12</td>\n",
       "      <td>METHODS</td>\n",
       "      <td>We conducted this study to assess the clinical...</td>\n",
       "    </tr>\n",
       "    <tr>\n",
       "      <th>4</th>\n",
       "      <td>1279170</td>\n",
       "      <td>1279170_4_12</td>\n",
       "      <td>Complete healing of all cutaneous lesions ( ul...</td>\n",
       "      <td>4</td>\n",
       "      <td>12</td>\n",
       "      <td>RESULTS</td>\n",
       "      <td>We conducted this study to assess the clinical...</td>\n",
       "    </tr>\n",
       "  </tbody>\n",
       "</table>\n",
       "</div>"
      ],
      "text/plain": [
       "   abstract_id       line_id  \\\n",
       "0      1279170  1279170_0_12   \n",
       "1      1279170  1279170_1_12   \n",
       "2      1279170  1279170_2_12   \n",
       "3      1279170  1279170_3_12   \n",
       "4      1279170  1279170_4_12   \n",
       "\n",
       "                                       abstract_text  line_number  \\\n",
       "0  We conducted this study to assess the clinical...            0   \n",
       "1  Thirty-five patients with Raynaud 's phenomeno...            1   \n",
       "2  Following a 2 week washout , subjects received...            2   \n",
       "3  Clinical assessments , status of digital ulcer...            3   \n",
       "4  Complete healing of all cutaneous lesions ( ul...            4   \n",
       "\n",
       "   total_lines     target                         abstract_text_concatenated  \n",
       "0           12  OBJECTIVE  We conducted this study to assess the clinical...  \n",
       "1           12    METHODS  We conducted this study to assess the clinical...  \n",
       "2           12    METHODS  We conducted this study to assess the clinical...  \n",
       "3           12    METHODS  We conducted this study to assess the clinical...  \n",
       "4           12    RESULTS  We conducted this study to assess the clinical...  "
      ]
     },
     "execution_count": 51,
     "metadata": {},
     "output_type": "execute_result"
    }
   ],
   "source": [
    "df = df.merge(concatenated_abstract, on='abstract_id', how='left', suffixes=('', '_concatenated'))\n",
    "df.head()"
   ]
  },
  {
   "cell_type": "code",
   "execution_count": 53,
   "id": "937e19ef-b3f0-4116-9ce4-a7136803faea",
   "metadata": {},
   "outputs": [
    {
     "ename": "KeyError",
     "evalue": "\"['abstract_text'] not found in axis\"",
     "output_type": "error",
     "traceback": [
      "\u001b[0;31m---------------------------------------------------------------------------\u001b[0m",
      "\u001b[0;31mKeyError\u001b[0m                                  Traceback (most recent call last)",
      "Cell \u001b[0;32mIn[53], line 1\u001b[0m\n\u001b[0;32m----> 1\u001b[0m df \u001b[38;5;241m=\u001b[39m \u001b[43mdf\u001b[49m\u001b[38;5;241;43m.\u001b[39;49m\u001b[43mdrop\u001b[49m\u001b[43m(\u001b[49m\u001b[43mcolumns\u001b[49m\u001b[38;5;241;43m=\u001b[39;49m\u001b[38;5;124;43m'\u001b[39;49m\u001b[38;5;124;43mabstract_text\u001b[39;49m\u001b[38;5;124;43m'\u001b[39;49m\u001b[43m)\u001b[49m\n",
      "File \u001b[0;32m~/.pyenv/versions/3.10.6/envs/NLP-Systematic-review/lib/python3.10/site-packages/pandas/core/frame.py:5347\u001b[0m, in \u001b[0;36mDataFrame.drop\u001b[0;34m(self, labels, axis, index, columns, level, inplace, errors)\u001b[0m\n\u001b[1;32m   5199\u001b[0m \u001b[38;5;28;01mdef\u001b[39;00m \u001b[38;5;21mdrop\u001b[39m(\n\u001b[1;32m   5200\u001b[0m     \u001b[38;5;28mself\u001b[39m,\n\u001b[1;32m   5201\u001b[0m     labels: IndexLabel \u001b[38;5;241m|\u001b[39m \u001b[38;5;28;01mNone\u001b[39;00m \u001b[38;5;241m=\u001b[39m \u001b[38;5;28;01mNone\u001b[39;00m,\n\u001b[0;32m   (...)\u001b[0m\n\u001b[1;32m   5208\u001b[0m     errors: IgnoreRaise \u001b[38;5;241m=\u001b[39m \u001b[38;5;124m\"\u001b[39m\u001b[38;5;124mraise\u001b[39m\u001b[38;5;124m\"\u001b[39m,\n\u001b[1;32m   5209\u001b[0m ) \u001b[38;5;241m-\u001b[39m\u001b[38;5;241m>\u001b[39m DataFrame \u001b[38;5;241m|\u001b[39m \u001b[38;5;28;01mNone\u001b[39;00m:\n\u001b[1;32m   5210\u001b[0m \u001b[38;5;250m    \u001b[39m\u001b[38;5;124;03m\"\"\"\u001b[39;00m\n\u001b[1;32m   5211\u001b[0m \u001b[38;5;124;03m    Drop specified labels from rows or columns.\u001b[39;00m\n\u001b[1;32m   5212\u001b[0m \n\u001b[0;32m   (...)\u001b[0m\n\u001b[1;32m   5345\u001b[0m \u001b[38;5;124;03m            weight  1.0     0.8\u001b[39;00m\n\u001b[1;32m   5346\u001b[0m \u001b[38;5;124;03m    \"\"\"\u001b[39;00m\n\u001b[0;32m-> 5347\u001b[0m     \u001b[38;5;28;01mreturn\u001b[39;00m \u001b[38;5;28;43msuper\u001b[39;49m\u001b[43m(\u001b[49m\u001b[43m)\u001b[49m\u001b[38;5;241;43m.\u001b[39;49m\u001b[43mdrop\u001b[49m\u001b[43m(\u001b[49m\n\u001b[1;32m   5348\u001b[0m \u001b[43m        \u001b[49m\u001b[43mlabels\u001b[49m\u001b[38;5;241;43m=\u001b[39;49m\u001b[43mlabels\u001b[49m\u001b[43m,\u001b[49m\n\u001b[1;32m   5349\u001b[0m \u001b[43m        \u001b[49m\u001b[43maxis\u001b[49m\u001b[38;5;241;43m=\u001b[39;49m\u001b[43maxis\u001b[49m\u001b[43m,\u001b[49m\n\u001b[1;32m   5350\u001b[0m \u001b[43m        \u001b[49m\u001b[43mindex\u001b[49m\u001b[38;5;241;43m=\u001b[39;49m\u001b[43mindex\u001b[49m\u001b[43m,\u001b[49m\n\u001b[1;32m   5351\u001b[0m \u001b[43m        \u001b[49m\u001b[43mcolumns\u001b[49m\u001b[38;5;241;43m=\u001b[39;49m\u001b[43mcolumns\u001b[49m\u001b[43m,\u001b[49m\n\u001b[1;32m   5352\u001b[0m \u001b[43m        \u001b[49m\u001b[43mlevel\u001b[49m\u001b[38;5;241;43m=\u001b[39;49m\u001b[43mlevel\u001b[49m\u001b[43m,\u001b[49m\n\u001b[1;32m   5353\u001b[0m \u001b[43m        \u001b[49m\u001b[43minplace\u001b[49m\u001b[38;5;241;43m=\u001b[39;49m\u001b[43minplace\u001b[49m\u001b[43m,\u001b[49m\n\u001b[1;32m   5354\u001b[0m \u001b[43m        \u001b[49m\u001b[43merrors\u001b[49m\u001b[38;5;241;43m=\u001b[39;49m\u001b[43merrors\u001b[49m\u001b[43m,\u001b[49m\n\u001b[1;32m   5355\u001b[0m \u001b[43m    \u001b[49m\u001b[43m)\u001b[49m\n",
      "File \u001b[0;32m~/.pyenv/versions/3.10.6/envs/NLP-Systematic-review/lib/python3.10/site-packages/pandas/core/generic.py:4711\u001b[0m, in \u001b[0;36mNDFrame.drop\u001b[0;34m(self, labels, axis, index, columns, level, inplace, errors)\u001b[0m\n\u001b[1;32m   4709\u001b[0m \u001b[38;5;28;01mfor\u001b[39;00m axis, labels \u001b[38;5;129;01min\u001b[39;00m axes\u001b[38;5;241m.\u001b[39mitems():\n\u001b[1;32m   4710\u001b[0m     \u001b[38;5;28;01mif\u001b[39;00m labels \u001b[38;5;129;01mis\u001b[39;00m \u001b[38;5;129;01mnot\u001b[39;00m \u001b[38;5;28;01mNone\u001b[39;00m:\n\u001b[0;32m-> 4711\u001b[0m         obj \u001b[38;5;241m=\u001b[39m \u001b[43mobj\u001b[49m\u001b[38;5;241;43m.\u001b[39;49m\u001b[43m_drop_axis\u001b[49m\u001b[43m(\u001b[49m\u001b[43mlabels\u001b[49m\u001b[43m,\u001b[49m\u001b[43m \u001b[49m\u001b[43maxis\u001b[49m\u001b[43m,\u001b[49m\u001b[43m \u001b[49m\u001b[43mlevel\u001b[49m\u001b[38;5;241;43m=\u001b[39;49m\u001b[43mlevel\u001b[49m\u001b[43m,\u001b[49m\u001b[43m \u001b[49m\u001b[43merrors\u001b[49m\u001b[38;5;241;43m=\u001b[39;49m\u001b[43merrors\u001b[49m\u001b[43m)\u001b[49m\n\u001b[1;32m   4713\u001b[0m \u001b[38;5;28;01mif\u001b[39;00m inplace:\n\u001b[1;32m   4714\u001b[0m     \u001b[38;5;28mself\u001b[39m\u001b[38;5;241m.\u001b[39m_update_inplace(obj)\n",
      "File \u001b[0;32m~/.pyenv/versions/3.10.6/envs/NLP-Systematic-review/lib/python3.10/site-packages/pandas/core/generic.py:4753\u001b[0m, in \u001b[0;36mNDFrame._drop_axis\u001b[0;34m(self, labels, axis, level, errors, only_slice)\u001b[0m\n\u001b[1;32m   4751\u001b[0m         new_axis \u001b[38;5;241m=\u001b[39m axis\u001b[38;5;241m.\u001b[39mdrop(labels, level\u001b[38;5;241m=\u001b[39mlevel, errors\u001b[38;5;241m=\u001b[39merrors)\n\u001b[1;32m   4752\u001b[0m     \u001b[38;5;28;01melse\u001b[39;00m:\n\u001b[0;32m-> 4753\u001b[0m         new_axis \u001b[38;5;241m=\u001b[39m \u001b[43maxis\u001b[49m\u001b[38;5;241;43m.\u001b[39;49m\u001b[43mdrop\u001b[49m\u001b[43m(\u001b[49m\u001b[43mlabels\u001b[49m\u001b[43m,\u001b[49m\u001b[43m \u001b[49m\u001b[43merrors\u001b[49m\u001b[38;5;241;43m=\u001b[39;49m\u001b[43merrors\u001b[49m\u001b[43m)\u001b[49m\n\u001b[1;32m   4754\u001b[0m     indexer \u001b[38;5;241m=\u001b[39m axis\u001b[38;5;241m.\u001b[39mget_indexer(new_axis)\n\u001b[1;32m   4756\u001b[0m \u001b[38;5;66;03m# Case for non-unique axis\u001b[39;00m\n\u001b[1;32m   4757\u001b[0m \u001b[38;5;28;01melse\u001b[39;00m:\n",
      "File \u001b[0;32m~/.pyenv/versions/3.10.6/envs/NLP-Systematic-review/lib/python3.10/site-packages/pandas/core/indexes/base.py:6992\u001b[0m, in \u001b[0;36mIndex.drop\u001b[0;34m(self, labels, errors)\u001b[0m\n\u001b[1;32m   6990\u001b[0m \u001b[38;5;28;01mif\u001b[39;00m mask\u001b[38;5;241m.\u001b[39many():\n\u001b[1;32m   6991\u001b[0m     \u001b[38;5;28;01mif\u001b[39;00m errors \u001b[38;5;241m!=\u001b[39m \u001b[38;5;124m\"\u001b[39m\u001b[38;5;124mignore\u001b[39m\u001b[38;5;124m\"\u001b[39m:\n\u001b[0;32m-> 6992\u001b[0m         \u001b[38;5;28;01mraise\u001b[39;00m \u001b[38;5;167;01mKeyError\u001b[39;00m(\u001b[38;5;124mf\u001b[39m\u001b[38;5;124m\"\u001b[39m\u001b[38;5;132;01m{\u001b[39;00mlabels[mask]\u001b[38;5;241m.\u001b[39mtolist()\u001b[38;5;132;01m}\u001b[39;00m\u001b[38;5;124m not found in axis\u001b[39m\u001b[38;5;124m\"\u001b[39m)\n\u001b[1;32m   6993\u001b[0m     indexer \u001b[38;5;241m=\u001b[39m indexer[\u001b[38;5;241m~\u001b[39mmask]\n\u001b[1;32m   6994\u001b[0m \u001b[38;5;28;01mreturn\u001b[39;00m \u001b[38;5;28mself\u001b[39m\u001b[38;5;241m.\u001b[39mdelete(indexer)\n",
      "\u001b[0;31mKeyError\u001b[0m: \"['abstract_text'] not found in axis\""
     ]
    }
   ],
   "source": [
    "df = df.drop(columns='abstract_text')"
   ]
  },
  {
   "cell_type": "code",
   "execution_count": 54,
   "id": "65372da1-2ccb-4f50-b86d-726fbe820982",
   "metadata": {},
   "outputs": [],
   "source": [
    "df = df.rename(columns={'abstract_text_concatenated': 'abstract_text'})"
   ]
  },
  {
   "cell_type": "code",
   "execution_count": 55,
   "id": "dbc55467-681d-487a-850c-34377bdb77ad",
   "metadata": {},
   "outputs": [
    {
     "data": {
      "text/html": [
       "<div>\n",
       "<style scoped>\n",
       "    .dataframe tbody tr th:only-of-type {\n",
       "        vertical-align: middle;\n",
       "    }\n",
       "\n",
       "    .dataframe tbody tr th {\n",
       "        vertical-align: top;\n",
       "    }\n",
       "\n",
       "    .dataframe thead th {\n",
       "        text-align: right;\n",
       "    }\n",
       "</style>\n",
       "<table border=\"1\" class=\"dataframe\">\n",
       "  <thead>\n",
       "    <tr style=\"text-align: right;\">\n",
       "      <th></th>\n",
       "      <th>abstract_id</th>\n",
       "      <th>line_id</th>\n",
       "      <th>line_number</th>\n",
       "      <th>total_lines</th>\n",
       "      <th>target</th>\n",
       "      <th>abstract_text</th>\n",
       "    </tr>\n",
       "  </thead>\n",
       "  <tbody>\n",
       "    <tr>\n",
       "      <th>0</th>\n",
       "      <td>1279170</td>\n",
       "      <td>1279170_0_12</td>\n",
       "      <td>0</td>\n",
       "      <td>12</td>\n",
       "      <td>OBJECTIVE</td>\n",
       "      <td>We conducted this study to assess the clinical...</td>\n",
       "    </tr>\n",
       "    <tr>\n",
       "      <th>1</th>\n",
       "      <td>1279170</td>\n",
       "      <td>1279170_1_12</td>\n",
       "      <td>1</td>\n",
       "      <td>12</td>\n",
       "      <td>METHODS</td>\n",
       "      <td>We conducted this study to assess the clinical...</td>\n",
       "    </tr>\n",
       "    <tr>\n",
       "      <th>2</th>\n",
       "      <td>1279170</td>\n",
       "      <td>1279170_2_12</td>\n",
       "      <td>2</td>\n",
       "      <td>12</td>\n",
       "      <td>METHODS</td>\n",
       "      <td>We conducted this study to assess the clinical...</td>\n",
       "    </tr>\n",
       "    <tr>\n",
       "      <th>3</th>\n",
       "      <td>1279170</td>\n",
       "      <td>1279170_3_12</td>\n",
       "      <td>3</td>\n",
       "      <td>12</td>\n",
       "      <td>METHODS</td>\n",
       "      <td>We conducted this study to assess the clinical...</td>\n",
       "    </tr>\n",
       "    <tr>\n",
       "      <th>4</th>\n",
       "      <td>1279170</td>\n",
       "      <td>1279170_4_12</td>\n",
       "      <td>4</td>\n",
       "      <td>12</td>\n",
       "      <td>RESULTS</td>\n",
       "      <td>We conducted this study to assess the clinical...</td>\n",
       "    </tr>\n",
       "  </tbody>\n",
       "</table>\n",
       "</div>"
      ],
      "text/plain": [
       "   abstract_id       line_id  line_number  total_lines     target  \\\n",
       "0      1279170  1279170_0_12            0           12  OBJECTIVE   \n",
       "1      1279170  1279170_1_12            1           12    METHODS   \n",
       "2      1279170  1279170_2_12            2           12    METHODS   \n",
       "3      1279170  1279170_3_12            3           12    METHODS   \n",
       "4      1279170  1279170_4_12            4           12    RESULTS   \n",
       "\n",
       "                                       abstract_text  \n",
       "0  We conducted this study to assess the clinical...  \n",
       "1  We conducted this study to assess the clinical...  \n",
       "2  We conducted this study to assess the clinical...  \n",
       "3  We conducted this study to assess the clinical...  \n",
       "4  We conducted this study to assess the clinical...  "
      ]
     },
     "execution_count": 55,
     "metadata": {},
     "output_type": "execute_result"
    }
   ],
   "source": [
    "df.head()"
   ]
  },
  {
   "cell_type": "code",
   "execution_count": 56,
   "id": "0ff1fec7-9e65-4f70-9a8f-fa40c80d568f",
   "metadata": {},
   "outputs": [
    {
     "data": {
      "text/plain": [
       "\"We conducted this study to assess the clinical usefulness and physiologic effects of intravenous iloprost in patients with Raynaud 's phenomenon secondary to systemic sclerosis . Thirty-five patients with Raynaud 's phenomenon secondary to systemic sclerosis , including 11 with digital ischemic ulcerations , were enrolled in a double blind placebo controlled parallel study in 2 centers . Following a 2 week washout , subjects received intravenous iloprost ( 0.5-2 .0 ng/kg/min ) or saline by continuous infusion for 6 h on 5 consecutive days . Clinical assessments , status of digital ulcers , measures of in vivo platelet activation and detailed studies of peripheral vascular response to cold challenge , were performed at entry , at 5 days of therapy and at biweekly intervals for 10 weeks . Complete healing of all cutaneous lesions ( ulcers , fissures , and paronychia ) was observed 10 weeks after treatment in 6 of 7 patients receiving iloprost versus none of 4 receiving placebo ( p = 0.015 ) . Ischemic digital tip ulcers completely healed in all 4 patients with ulcers in the iloprost group , but none in the placebo group ( p = 0.029 ) . Patient diaries of frequency , duration and symptoms of Raynaud 's phenomenon showed improvement in both groups . Critical ischemic temperature ( finger temperature during controlled cold challenge at which Raynaud 's or loss of detectable digital blood flow occurred ) progressively decreased in the iloprost group from 21.3 + / - 7.3 degrees C at baseline to a minimum of 16.1 + / - 3.2 degrees C at 8 weeks after treatment ( p = 0.076 ) , whereas no consistent changes were observed in the placebo group . Treatment was associated with improvement in the rate of skin temperature recovery following cold challenge . No changes were noted in ambient digital skin temperature , total digital blood flow , finger systolic pressure or in measures of in vivo platelet activation . One subject dropped out with chest pain , but adverse effects of nausea , vomiting , headache and jaw pain were otherwise limited to the 5 days of drug infusion . Iloprost appears useful for the treatment of digital ulcers in systemic sclerosis and is associated with evidence of prolonged physiologic improvement although the mechanism of this effect remains unclear .\""
      ]
     },
     "execution_count": 56,
     "metadata": {},
     "output_type": "execute_result"
    }
   ],
   "source": [
    "df['abstract_text'][1]"
   ]
  },
  {
   "cell_type": "code",
   "execution_count": 41,
   "id": "774b925b-0474-4ae9-8990-94082e9e8cc8",
   "metadata": {},
   "outputs": [
    {
     "data": {
      "text/plain": [
       "Index(['abstract_id', 'line_id', 'line_number', 'total_lines', 'target',\n",
       "       'abstract_text_x', 'abstract_text_x', 'abstract_text_y'],\n",
       "      dtype='object')"
      ]
     },
     "execution_count": 41,
     "metadata": {},
     "output_type": "execute_result"
    }
   ],
   "source": []
  },
  {
   "cell_type": "code",
   "execution_count": 15,
   "id": "014796d4-57d6-48c6-94f8-f825501b5561",
   "metadata": {},
   "outputs": [
    {
     "data": {
      "text/html": [
       "<div>\n",
       "<style scoped>\n",
       "    .dataframe tbody tr th:only-of-type {\n",
       "        vertical-align: middle;\n",
       "    }\n",
       "\n",
       "    .dataframe tbody tr th {\n",
       "        vertical-align: top;\n",
       "    }\n",
       "\n",
       "    .dataframe thead th {\n",
       "        text-align: right;\n",
       "    }\n",
       "</style>\n",
       "<table border=\"1\" class=\"dataframe\">\n",
       "  <thead>\n",
       "    <tr style=\"text-align: right;\">\n",
       "      <th></th>\n",
       "      <th>abstract_id</th>\n",
       "      <th>line_id</th>\n",
       "      <th>line_number</th>\n",
       "      <th>total_lines</th>\n",
       "      <th>target</th>\n",
       "      <th>abstract_text</th>\n",
       "    </tr>\n",
       "  </thead>\n",
       "  <tbody>\n",
       "    <tr>\n",
       "      <th>0</th>\n",
       "      <td>1279170</td>\n",
       "      <td>1279170_0_12</td>\n",
       "      <td>0</td>\n",
       "      <td>12</td>\n",
       "      <td>OBJECTIVE</td>\n",
       "      <td>We conducted this study to assess the clinical...</td>\n",
       "    </tr>\n",
       "    <tr>\n",
       "      <th>1</th>\n",
       "      <td>1279170</td>\n",
       "      <td>1279170_1_12</td>\n",
       "      <td>1</td>\n",
       "      <td>12</td>\n",
       "      <td>METHODS</td>\n",
       "      <td>We conducted this study to assess the clinical...</td>\n",
       "    </tr>\n",
       "    <tr>\n",
       "      <th>2</th>\n",
       "      <td>1279170</td>\n",
       "      <td>1279170_2_12</td>\n",
       "      <td>2</td>\n",
       "      <td>12</td>\n",
       "      <td>METHODS</td>\n",
       "      <td>We conducted this study to assess the clinical...</td>\n",
       "    </tr>\n",
       "    <tr>\n",
       "      <th>3</th>\n",
       "      <td>1279170</td>\n",
       "      <td>1279170_3_12</td>\n",
       "      <td>3</td>\n",
       "      <td>12</td>\n",
       "      <td>METHODS</td>\n",
       "      <td>We conducted this study to assess the clinical...</td>\n",
       "    </tr>\n",
       "    <tr>\n",
       "      <th>4</th>\n",
       "      <td>1279170</td>\n",
       "      <td>1279170_4_12</td>\n",
       "      <td>4</td>\n",
       "      <td>12</td>\n",
       "      <td>RESULTS</td>\n",
       "      <td>We conducted this study to assess the clinical...</td>\n",
       "    </tr>\n",
       "  </tbody>\n",
       "</table>\n",
       "</div>"
      ],
      "text/plain": [
       "   abstract_id       line_id  line_number  total_lines     target  \\\n",
       "0      1279170  1279170_0_12            0           12  OBJECTIVE   \n",
       "1      1279170  1279170_1_12            1           12    METHODS   \n",
       "2      1279170  1279170_2_12            2           12    METHODS   \n",
       "3      1279170  1279170_3_12            3           12    METHODS   \n",
       "4      1279170  1279170_4_12            4           12    RESULTS   \n",
       "\n",
       "                                       abstract_text  \n",
       "0  We conducted this study to assess the clinical...  \n",
       "1  We conducted this study to assess the clinical...  \n",
       "2  We conducted this study to assess the clinical...  \n",
       "3  We conducted this study to assess the clinical...  \n",
       "4  We conducted this study to assess the clinical...  "
      ]
     },
     "execution_count": 15,
     "metadata": {},
     "output_type": "execute_result"
    }
   ],
   "source": []
  },
  {
   "cell_type": "code",
   "execution_count": 58,
   "id": "486741b0-49e0-4331-855b-4af1c344600f",
   "metadata": {},
   "outputs": [],
   "source": [
    "data = df[['abstract_id', 'abstract_text']].drop_duplicates()"
   ]
  },
  {
   "cell_type": "code",
   "execution_count": 68,
   "id": "0f2fea74-9cc0-4606-892c-cd35d539e200",
   "metadata": {},
   "outputs": [
    {
     "data": {
      "text/plain": [
       "'It is often suggested that psychological and social support and health education for women at high risk for delivering a low-birth-weight infant can improve the outcomes of pregnancy , but the evidence is inconclusive . We undertook this prospective trial to evaluate a program of home visits designed to provide psychosocial support during pregnancy . At four centers in Latin America , 2235 women at higher-than-average risk for delivering a low-birth-weight infant were recruited before the 20th week of pregnancy . The women were randomly assigned either to an intervention group ( n = 1115 ) that received four to six home visits from a nurse or social worker in addition to routine prenatal care or to a control group ( n = 1120 ) that received only routine prenatal care ( with a mean of eight prenatal visits ) . The principal measures of outcome were low birth weight ( < 2500 g ) , preterm delivery ( < 37 weeks of gestation ) , and specified categories of maternal and neonatal morbidity . The women who received the home visits as well as routine prenatal care had outcomes that differed little from those of the women who received only routine care . The risks of low birth weight ( odds ratio for the intervention group as compared with the control group , 0.93 ; 95 percent confidence interval , 0.68 to 1.28 ) , preterm delivery ( odds ratio , 0.88 ; 95 percent confidence interval , 0.67 to 1.16 ) , and intrauterine growth retardation ( odds ratio , 1.08 ; 95 percent confidence interval , 0.83 to 1.40 ) were similar in the two groups . There was no evidence that the intervention had any significant effect on the type of delivery , the length of hospital stay , perinatal mortality , or neonatal morbidity in the first 40 days . There was no protective effect of the psychosocial-support program even among the mothers at highest risk . Interventions designed to provide psychosocial support and health education during high-risk pregnancies are unlikely to improve maternal health or to reduce the incidence of low birth weight among infants .'"
      ]
     },
     "execution_count": 68,
     "metadata": {},
     "output_type": "execute_result"
    }
   ],
   "source": [
    "data.iloc[23].abstract_text"
   ]
  },
  {
   "cell_type": "code",
   "execution_count": 73,
   "id": "dd5a377d-9fce-4362-806f-178af6d0e072",
   "metadata": {},
   "outputs": [],
   "source": [
    "data.reset_index(inplace = True, drop = True)"
   ]
  },
  {
   "cell_type": "code",
   "execution_count": 76,
   "id": "806d86fd-cf21-4139-9c6f-96211b011d02",
   "metadata": {},
   "outputs": [],
   "source": [
    "data.drop(columns='index', inplace = True)"
   ]
  },
  {
   "cell_type": "code",
   "execution_count": 77,
   "id": "970b1d5f-7472-4d4f-abc0-c3f90fad566f",
   "metadata": {},
   "outputs": [
    {
     "data": {
      "text/html": [
       "<div>\n",
       "<style scoped>\n",
       "    .dataframe tbody tr th:only-of-type {\n",
       "        vertical-align: middle;\n",
       "    }\n",
       "\n",
       "    .dataframe tbody tr th {\n",
       "        vertical-align: top;\n",
       "    }\n",
       "\n",
       "    .dataframe thead th {\n",
       "        text-align: right;\n",
       "    }\n",
       "</style>\n",
       "<table border=\"1\" class=\"dataframe\">\n",
       "  <thead>\n",
       "    <tr style=\"text-align: right;\">\n",
       "      <th></th>\n",
       "      <th>abstract_id</th>\n",
       "      <th>abstract_text</th>\n",
       "    </tr>\n",
       "  </thead>\n",
       "  <tbody>\n",
       "    <tr>\n",
       "      <th>0</th>\n",
       "      <td>1279170</td>\n",
       "      <td>We conducted this study to assess the clinical...</td>\n",
       "    </tr>\n",
       "    <tr>\n",
       "      <th>1</th>\n",
       "      <td>1281030</td>\n",
       "      <td>To determine whether prophylactic treatment wi...</td>\n",
       "    </tr>\n",
       "    <tr>\n",
       "      <th>2</th>\n",
       "      <td>1282364</td>\n",
       "      <td>After the discovery of type C hepatitis virus ...</td>\n",
       "    </tr>\n",
       "    <tr>\n",
       "      <th>3</th>\n",
       "      <td>1283117</td>\n",
       "      <td>Since it is not clear whether testosterone or ...</td>\n",
       "    </tr>\n",
       "    <tr>\n",
       "      <th>4</th>\n",
       "      <td>1283730</td>\n",
       "      <td>The aim was to study the pharmacokinetic param...</td>\n",
       "    </tr>\n",
       "  </tbody>\n",
       "</table>\n",
       "</div>"
      ],
      "text/plain": [
       "   abstract_id                                      abstract_text\n",
       "0      1279170  We conducted this study to assess the clinical...\n",
       "1      1281030  To determine whether prophylactic treatment wi...\n",
       "2      1282364  After the discovery of type C hepatitis virus ...\n",
       "3      1283117  Since it is not clear whether testosterone or ...\n",
       "4      1283730  The aim was to study the pharmacokinetic param..."
      ]
     },
     "execution_count": 77,
     "metadata": {},
     "output_type": "execute_result"
    }
   ],
   "source": [
    "data.head()"
   ]
  }
 ],
 "metadata": {
  "kernelspec": {
   "display_name": "Python 3 (ipykernel)",
   "language": "python",
   "name": "python3"
  },
  "language_info": {
   "codemirror_mode": {
    "name": "ipython",
    "version": 3
   },
   "file_extension": ".py",
   "mimetype": "text/x-python",
   "name": "python",
   "nbconvert_exporter": "python",
   "pygments_lexer": "ipython3",
   "version": "3.10.6"
  }
 },
 "nbformat": 4,
 "nbformat_minor": 5
}
